{
 "cells": [
  {
   "cell_type": "markdown",
   "metadata": {},
   "source": [
    "# Hourly Data #"
   ]
  },
  {
   "cell_type": "code",
   "execution_count": 1,
   "metadata": {},
   "outputs": [],
   "source": [
    "# imports\n",
    "import pandas as pd\n",
    "import numpy as np\n",
    "import time\n",
    "from timeit import default_timer as timer"
   ]
  },
  {
   "cell_type": "code",
   "execution_count": 2,
   "metadata": {},
   "outputs": [],
   "source": [
    "# define data location\n",
    "#location = '/Users/mithras/Documents/_SCHOOL/_Drexel/BUSN 710 - Capstone/Data/Forecasting Project/'\n",
    "location = '/Users/loki/Documents/_SCHOOL/_Drexel/BUSN 710 - Capstone/Data/Forecasting Project/'"
   ]
  },
  {
   "cell_type": "markdown",
   "metadata": {},
   "source": [
    "## Data Cleaning & Checking "
   ]
  },
  {
   "cell_type": "code",
   "execution_count": 3,
   "metadata": {},
   "outputs": [],
   "source": [
    "# # hourly data\n",
    "\n",
    "# use_oct_in = pd.read_excel(location+'PECO Zip HourlyUsage_2017.10.xlsx')\n",
    "# use_nov_in = pd.read_excel(location+'PECO Zip HourlyUsage_2017.11.xlsx') \n",
    "# use_dec_in = pd.read_excel(location+'PECO Zip HourlyUsage_2017.12.xlsx') \n",
    "# use_jan_in = pd.read_excel(location+'Zip_HourlylUsage_2018.01.xlsx')\n",
    "# use_feb_in = pd.read_excel(location+'PECO Zip HourlyUsage_2018.02.xlsx')\n",
    "# use_mar_in = pd.read_excel(location+'PECO Zip HourlyUsage_2018.03.xlsx')\n",
    "# use_apr_in = pd.read_excel(location+'PECO Zip HourlyUsage_2018.04.xlsx')\n",
    "# use_may_in = pd.read_excel(location+'PECO Zip HourlyUsage_2018.05.xlsx')\n",
    "# use_jun_in = pd.read_excel(location+'PECO Zip HourlyUsage_2018.06.xlsx')\n",
    "# use_jul_in = pd.read_excel(location+'Zip_HourlylUsage_2018.07.xlsx')\n",
    "# use_aug_in = pd.read_excel(location+'PECO Zip HourlyUsage_2018.08.xlsx')\n",
    "# use_sep_in = pd.read_excel(location+'PECO Zip HourlyUsage_2018.09.xlsx')\n",
    "\n",
    "# end = timer()\n",
    "# print((end - start)/60) # Time in minutes (~15 min)"
   ]
  },
  {
   "cell_type": "code",
   "execution_count": 4,
   "metadata": {},
   "outputs": [],
   "source": [
    "# # merge use data\n",
    "# hourly_in = [use_oct_in, use_nov_in, use_dec_in, use_jan_in, use_feb_in, use_mar_in, \n",
    "#              use_apr_in, use_may_in, use_jun_in, use_jul_in, use_aug_in, use_sep_in]\n",
    "             \n",
    "# use = pd.concat(hourly_in)"
   ]
  },
  {
   "cell_type": "code",
   "execution_count": 5,
   "metadata": {},
   "outputs": [],
   "source": [
    "# # drop unused tables for memory space\n",
    "# del (use_oct_in, use_nov_in, use_dec_in, use_jan_in, use_feb_in, use_mar_in, \n",
    "#      use_apr_in, use_may_in, use_jun_in, use_jul_in, use_aug_in, use_sep_in)\n",
    "# del hourly_in"
   ]
  },
  {
   "cell_type": "code",
   "execution_count": 6,
   "metadata": {},
   "outputs": [],
   "source": [
    "# # save as pickle so we don't have to do this again\n",
    "# use.to_pickle(location+'hourly_use_raw.pkl.zip')\n",
    "# del use"
   ]
  },
  {
   "cell_type": "code",
   "execution_count": 7,
   "metadata": {},
   "outputs": [
    {
     "name": "stdout",
     "output_type": "stream",
     "text": [
      "0.20651121616666615\n"
     ]
    }
   ],
   "source": [
    "# load pickle\n",
    "start = timer()\n",
    "\n",
    "use = pd.read_pickle(location+'hourly_use_raw.pkl.zip')\n",
    "\n",
    "end = timer()\n",
    "print((end - start)/60) # Time in minutes (~.2 min - MUCH FASTER!!)"
   ]
  },
  {
   "cell_type": "code",
   "execution_count": 8,
   "metadata": {},
   "outputs": [],
   "source": [
    "# create ID tuple\n",
    "ids = pd.Series(list(map(tuple, use[['DACCOUNTID', 'DMETERNO']].values)))\n",
    "use['ID'] = ids.values\n",
    "\n",
    "# find gas records\n",
    "use = use.loc[use['UOM'] == 'CCF']\n",
    "use = use.drop(columns=['UOM'])\n",
    "\n",
    "# convert to datetime\n",
    "use['Dt'] =  pd.to_datetime(use['METERREADDATE'])"
   ]
  },
  {
   "cell_type": "code",
   "execution_count": 9,
   "metadata": {},
   "outputs": [],
   "source": [
    "# load customer data\n",
    "customer_in = pd.read_excel(location+'PECO Zip Customer 2018.10.01 v2.xlsx', sheet_name=\"Account\")\n",
    "ids = pd.Series(list(map(tuple, customer_in[['DACCOUNTID', 'DMETERNO']].values)))\n",
    "customer_in['ID'] = ids.values\n",
    "customer = customer_in.drop(columns=['CITY', 'STATE', 'ZIPCODE', 'COUNTYCODE'])\n",
    "del customer_in"
   ]
  },
  {
   "cell_type": "markdown",
   "metadata": {},
   "source": [
    "## Data Restructuring ##"
   ]
  },
  {
   "cell_type": "code",
   "execution_count": 10,
   "metadata": {},
   "outputs": [],
   "source": [
    "# functions for naming consistency\n",
    "def decrement(x, startswith, split):\n",
    "    \"\"\"\n",
    "    decrements a passed string of form \"demo#\" by 1\n",
    "    \n",
    "    Parameters\n",
    "    ----------\n",
    "    x : string to be decremented\n",
    "    split : string to split on\n",
    "\n",
    "    Returns\n",
    "    ----------\n",
    "    y : decremented string\n",
    "    \"\"\"\n",
    "    if x.startswith(startswith):\n",
    "        a,b = x.split(split)\n",
    "        b = int(b)-1\n",
    "        y = a + split + str(b)\n",
    "\n",
    "        return y\n",
    "\n",
    "    else:\n",
    "        return x\n",
    "\n",
    "    \n",
    "def interval_to_hour(df):\n",
    "    \"\"\"\n",
    "    function for fast rename/relabel during tidying process\n",
    "    \n",
    "    Parameters\n",
    "    ----------\n",
    "    df : pandas data frame\n",
    "\n",
    "    Returns\n",
    "    ----------\n",
    "    df : data frame with updated column names\n",
    "    \"\"\"\n",
    "    \n",
    "    df = df.rename(columns=lambda x: decrement(x, \"INTERVAL_\", \"_\"))\n",
    "    df = df.rename(columns=lambda x: x.replace(\"INTERVAL_\", \"HR\"))\n",
    "    return df"
   ]
  },
  {
   "cell_type": "code",
   "execution_count": 11,
   "metadata": {},
   "outputs": [],
   "source": [
    "# rename for consistency\n",
    "use = interval_to_hour(use)\n",
    "use = use.drop(columns=['METERREADDATE','HR24'])"
   ]
  },
  {
   "cell_type": "code",
   "execution_count": 12,
   "metadata": {},
   "outputs": [],
   "source": [
    "# Tidy / Stack data (transform into tall data - one row per customer per hour):\n",
    "# ref: http://www.jeannicholashould.com/tidy-data-in-python.html\n",
    "tidy_use = pd.melt(use, \n",
    "                   id_vars=['ID','DACCOUNTID','DMETERNO','Dt'],\n",
    "                   var_name='Hour', value_name='Use')"
   ]
  },
  {
   "cell_type": "code",
   "execution_count": 13,
   "metadata": {},
   "outputs": [],
   "source": [
    "# drop use from memory\n",
    "del use"
   ]
  },
  {
   "cell_type": "code",
   "execution_count": 14,
   "metadata": {},
   "outputs": [],
   "source": [
    "# relabel/retype\n",
    "tidy_use['Hour'] = tidy_use['Hour'].str.extract('(\\d+)').astype(int)"
   ]
  },
  {
   "cell_type": "code",
   "execution_count": 15,
   "metadata": {},
   "outputs": [],
   "source": [
    "# append rate code data\n",
    "tidy_use = tidy_use.merge(customer, how='inner', on=['ID','DACCOUNTID','DMETERNO'])\n",
    "#tidy_use.head()"
   ]
  },
  {
   "cell_type": "code",
   "execution_count": 16,
   "metadata": {},
   "outputs": [],
   "source": [
    "# create single column for date and time\n",
    "tidy_use['year'] = pd.to_datetime(tidy_use['Dt'].values).year\n",
    "tidy_use['month'] = pd.to_datetime(tidy_use['Dt'].values).month\n",
    "tidy_use['day'] = pd.to_datetime(tidy_use['Dt'].values).day\n",
    "tidy_use['datetime'] = pd.to_datetime(tidy_use[['year','month','day','Hour']])"
   ]
  },
  {
   "cell_type": "code",
   "execution_count": 17,
   "metadata": {},
   "outputs": [],
   "source": [
    "# Add dummy variables for day-of-week\n",
    "#use = use.join(pd.get_dummies(use['Dt'].dt.weekday_name))\n",
    "tidy_use['Weekday'] = pd.get_dummies(tidy_use['Dt'].dt.weekday < 5)[True]"
   ]
  },
  {
   "cell_type": "code",
   "execution_count": 18,
   "metadata": {},
   "outputs": [
    {
     "data": {
      "text/html": [
       "<div>\n",
       "<style scoped>\n",
       "    .dataframe tbody tr th:only-of-type {\n",
       "        vertical-align: middle;\n",
       "    }\n",
       "\n",
       "    .dataframe tbody tr th {\n",
       "        vertical-align: top;\n",
       "    }\n",
       "\n",
       "    .dataframe thead th {\n",
       "        text-align: right;\n",
       "    }\n",
       "</style>\n",
       "<table border=\"1\" class=\"dataframe\">\n",
       "  <thead>\n",
       "    <tr style=\"text-align: right;\">\n",
       "      <th>REVENUCODE</th>\n",
       "      <th>1.0</th>\n",
       "      <th>3.0</th>\n",
       "      <th>5.0</th>\n",
       "      <th>12.0</th>\n",
       "    </tr>\n",
       "    <tr>\n",
       "      <th>Weekday</th>\n",
       "      <th></th>\n",
       "      <th></th>\n",
       "      <th></th>\n",
       "      <th></th>\n",
       "    </tr>\n",
       "  </thead>\n",
       "  <tbody>\n",
       "    <tr>\n",
       "      <th>0</th>\n",
       "      <td>0.088452</td>\n",
       "      <td>0.728298</td>\n",
       "      <td>30.736621</td>\n",
       "      <td>0.051348</td>\n",
       "    </tr>\n",
       "    <tr>\n",
       "      <th>1</th>\n",
       "      <td>0.087278</td>\n",
       "      <td>0.755928</td>\n",
       "      <td>35.495842</td>\n",
       "      <td>0.051624</td>\n",
       "    </tr>\n",
       "  </tbody>\n",
       "</table>\n",
       "</div>"
      ],
      "text/plain": [
       "REVENUCODE      1.0       3.0        5.0       12.0\n",
       "Weekday                                            \n",
       "0           0.088452  0.728298  30.736621  0.051348\n",
       "1           0.087278  0.755928  35.495842  0.051624"
      ]
     },
     "execution_count": 18,
     "metadata": {},
     "output_type": "execute_result"
    }
   ],
   "source": [
    "(tidy_use[['Weekday','REVENUCODE','Use']].groupby(['REVENUCODE','Weekday']).mean()\n",
    " .pivot_table(index='Weekday', columns='REVENUCODE', values='Use', fill_value=None))"
   ]
  },
  {
   "cell_type": "code",
   "execution_count": 19,
   "metadata": {},
   "outputs": [
    {
     "data": {
      "text/html": [
       "<div>\n",
       "<style scoped>\n",
       "    .dataframe tbody tr th:only-of-type {\n",
       "        vertical-align: middle;\n",
       "    }\n",
       "\n",
       "    .dataframe tbody tr th {\n",
       "        vertical-align: top;\n",
       "    }\n",
       "\n",
       "    .dataframe thead th {\n",
       "        text-align: right;\n",
       "    }\n",
       "</style>\n",
       "<table border=\"1\" class=\"dataframe\">\n",
       "  <thead>\n",
       "    <tr style=\"text-align: right;\">\n",
       "      <th>REVENUCODE</th>\n",
       "      <th>1.0</th>\n",
       "      <th>3.0</th>\n",
       "      <th>5.0</th>\n",
       "      <th>12.0</th>\n",
       "    </tr>\n",
       "    <tr>\n",
       "      <th>Hour</th>\n",
       "      <th></th>\n",
       "      <th></th>\n",
       "      <th></th>\n",
       "      <th></th>\n",
       "    </tr>\n",
       "  </thead>\n",
       "  <tbody>\n",
       "    <tr>\n",
       "      <th>0</th>\n",
       "      <td>0.075189</td>\n",
       "      <td>0.563908</td>\n",
       "      <td>10.188124</td>\n",
       "      <td>0.048037</td>\n",
       "    </tr>\n",
       "    <tr>\n",
       "      <th>1</th>\n",
       "      <td>0.077569</td>\n",
       "      <td>0.569036</td>\n",
       "      <td>10.995016</td>\n",
       "      <td>0.049646</td>\n",
       "    </tr>\n",
       "    <tr>\n",
       "      <th>2</th>\n",
       "      <td>0.080540</td>\n",
       "      <td>0.585921</td>\n",
       "      <td>10.720258</td>\n",
       "      <td>0.052058</td>\n",
       "    </tr>\n",
       "    <tr>\n",
       "      <th>3</th>\n",
       "      <td>0.085904</td>\n",
       "      <td>0.605370</td>\n",
       "      <td>12.234807</td>\n",
       "      <td>0.054311</td>\n",
       "    </tr>\n",
       "    <tr>\n",
       "      <th>4</th>\n",
       "      <td>0.094154</td>\n",
       "      <td>0.662754</td>\n",
       "      <td>10.474880</td>\n",
       "      <td>0.056648</td>\n",
       "    </tr>\n",
       "    <tr>\n",
       "      <th>5</th>\n",
       "      <td>0.108184</td>\n",
       "      <td>0.762463</td>\n",
       "      <td>12.269754</td>\n",
       "      <td>0.059615</td>\n",
       "    </tr>\n",
       "    <tr>\n",
       "      <th>6</th>\n",
       "      <td>0.122373</td>\n",
       "      <td>0.866974</td>\n",
       "      <td>12.653584</td>\n",
       "      <td>0.065020</td>\n",
       "    </tr>\n",
       "    <tr>\n",
       "      <th>7</th>\n",
       "      <td>0.123240</td>\n",
       "      <td>0.921704</td>\n",
       "      <td>13.466625</td>\n",
       "      <td>0.067467</td>\n",
       "    </tr>\n",
       "    <tr>\n",
       "      <th>8</th>\n",
       "      <td>0.111360</td>\n",
       "      <td>0.932027</td>\n",
       "      <td>14.498820</td>\n",
       "      <td>0.062536</td>\n",
       "    </tr>\n",
       "    <tr>\n",
       "      <th>9</th>\n",
       "      <td>0.097443</td>\n",
       "      <td>0.913262</td>\n",
       "      <td>13.057512</td>\n",
       "      <td>0.057296</td>\n",
       "    </tr>\n",
       "    <tr>\n",
       "      <th>10</th>\n",
       "      <td>0.086548</td>\n",
       "      <td>0.893633</td>\n",
       "      <td>11.819855</td>\n",
       "      <td>0.049048</td>\n",
       "    </tr>\n",
       "    <tr>\n",
       "      <th>11</th>\n",
       "      <td>0.079381</td>\n",
       "      <td>0.863515</td>\n",
       "      <td>61.247353</td>\n",
       "      <td>0.048366</td>\n",
       "    </tr>\n",
       "    <tr>\n",
       "      <th>12</th>\n",
       "      <td>0.074180</td>\n",
       "      <td>0.827582</td>\n",
       "      <td>58.582846</td>\n",
       "      <td>0.043206</td>\n",
       "    </tr>\n",
       "    <tr>\n",
       "      <th>13</th>\n",
       "      <td>0.069917</td>\n",
       "      <td>0.782324</td>\n",
       "      <td>66.958148</td>\n",
       "      <td>0.039647</td>\n",
       "    </tr>\n",
       "    <tr>\n",
       "      <th>14</th>\n",
       "      <td>0.068916</td>\n",
       "      <td>0.747373</td>\n",
       "      <td>56.440521</td>\n",
       "      <td>0.041751</td>\n",
       "    </tr>\n",
       "    <tr>\n",
       "      <th>15</th>\n",
       "      <td>0.072008</td>\n",
       "      <td>0.721348</td>\n",
       "      <td>51.289864</td>\n",
       "      <td>0.045275</td>\n",
       "    </tr>\n",
       "    <tr>\n",
       "      <th>16</th>\n",
       "      <td>0.078515</td>\n",
       "      <td>0.728560</td>\n",
       "      <td>46.232683</td>\n",
       "      <td>0.042631</td>\n",
       "    </tr>\n",
       "    <tr>\n",
       "      <th>17</th>\n",
       "      <td>0.084861</td>\n",
       "      <td>0.746986</td>\n",
       "      <td>45.537382</td>\n",
       "      <td>0.048109</td>\n",
       "    </tr>\n",
       "    <tr>\n",
       "      <th>18</th>\n",
       "      <td>0.087545</td>\n",
       "      <td>0.758806</td>\n",
       "      <td>46.537253</td>\n",
       "      <td>0.049269</td>\n",
       "    </tr>\n",
       "    <tr>\n",
       "      <th>19</th>\n",
       "      <td>0.090036</td>\n",
       "      <td>0.762801</td>\n",
       "      <td>48.317412</td>\n",
       "      <td>0.050823</td>\n",
       "    </tr>\n",
       "    <tr>\n",
       "      <th>20</th>\n",
       "      <td>0.090994</td>\n",
       "      <td>0.757783</td>\n",
       "      <td>49.279083</td>\n",
       "      <td>0.053416</td>\n",
       "    </tr>\n",
       "    <tr>\n",
       "      <th>21</th>\n",
       "      <td>0.087214</td>\n",
       "      <td>0.722074</td>\n",
       "      <td>52.942613</td>\n",
       "      <td>0.053756</td>\n",
       "    </tr>\n",
       "    <tr>\n",
       "      <th>22</th>\n",
       "      <td>0.080741</td>\n",
       "      <td>0.653801</td>\n",
       "      <td>51.745688</td>\n",
       "      <td>0.050008</td>\n",
       "    </tr>\n",
       "    <tr>\n",
       "      <th>23</th>\n",
       "      <td>0.075960</td>\n",
       "      <td>0.601743</td>\n",
       "      <td>52.261128</td>\n",
       "      <td>0.049138</td>\n",
       "    </tr>\n",
       "  </tbody>\n",
       "</table>\n",
       "</div>"
      ],
      "text/plain": [
       "REVENUCODE      1.0       3.0        5.0       12.0\n",
       "Hour                                               \n",
       "0           0.075189  0.563908  10.188124  0.048037\n",
       "1           0.077569  0.569036  10.995016  0.049646\n",
       "2           0.080540  0.585921  10.720258  0.052058\n",
       "3           0.085904  0.605370  12.234807  0.054311\n",
       "4           0.094154  0.662754  10.474880  0.056648\n",
       "5           0.108184  0.762463  12.269754  0.059615\n",
       "6           0.122373  0.866974  12.653584  0.065020\n",
       "7           0.123240  0.921704  13.466625  0.067467\n",
       "8           0.111360  0.932027  14.498820  0.062536\n",
       "9           0.097443  0.913262  13.057512  0.057296\n",
       "10          0.086548  0.893633  11.819855  0.049048\n",
       "11          0.079381  0.863515  61.247353  0.048366\n",
       "12          0.074180  0.827582  58.582846  0.043206\n",
       "13          0.069917  0.782324  66.958148  0.039647\n",
       "14          0.068916  0.747373  56.440521  0.041751\n",
       "15          0.072008  0.721348  51.289864  0.045275\n",
       "16          0.078515  0.728560  46.232683  0.042631\n",
       "17          0.084861  0.746986  45.537382  0.048109\n",
       "18          0.087545  0.758806  46.537253  0.049269\n",
       "19          0.090036  0.762801  48.317412  0.050823\n",
       "20          0.090994  0.757783  49.279083  0.053416\n",
       "21          0.087214  0.722074  52.942613  0.053756\n",
       "22          0.080741  0.653801  51.745688  0.050008\n",
       "23          0.075960  0.601743  52.261128  0.049138"
      ]
     },
     "execution_count": 19,
     "metadata": {},
     "output_type": "execute_result"
    }
   ],
   "source": [
    "(tidy_use[['Hour','REVENUCODE','Use']].groupby(['REVENUCODE','Hour']).mean()\n",
    " .pivot_table(index='Hour', columns='REVENUCODE', values='Use', fill_value=None))"
   ]
  },
  {
   "cell_type": "code",
   "execution_count": 20,
   "metadata": {},
   "outputs": [],
   "source": [
    "# Add dummy variables for hour-of-day\n",
    "#tidy_use = tidy_use.join(pd.get_dummies(tidy_use['Hour'],prefix='HR'))\n",
    "\n",
    "# Add dummy variables for part-of-day\n",
    "tidy_use['MORN'] = pd.get_dummies((tidy_use['Hour'] >= 5) & (tidy_use['Hour'] < 9))[True] # 5-9 am\n",
    "tidy_use['DAY'] = pd.get_dummies((tidy_use['Hour'] >= 9) & (tidy_use['Hour'] < 17))[True] # 9 am-5 pm\n",
    "tidy_use['EVE'] = pd.get_dummies((tidy_use['Hour'] >= 17) & (tidy_use['Hour'] < 21))[True] # 5-10 pm\n",
    "tidy_use['NIGHT'] = pd.get_dummies((tidy_use['Hour'] < 5) | (tidy_use['Hour'] >= 21) )[True] # 10 pm-6 am\n",
    "# tidy_use.head()"
   ]
  },
  {
   "cell_type": "code",
   "execution_count": 21,
   "metadata": {},
   "outputs": [
    {
     "data": {
      "text/html": [
       "<div>\n",
       "<style scoped>\n",
       "    .dataframe tbody tr th:only-of-type {\n",
       "        vertical-align: middle;\n",
       "    }\n",
       "\n",
       "    .dataframe tbody tr th {\n",
       "        vertical-align: top;\n",
       "    }\n",
       "\n",
       "    .dataframe thead th {\n",
       "        text-align: right;\n",
       "    }\n",
       "</style>\n",
       "<table border=\"1\" class=\"dataframe\">\n",
       "  <thead>\n",
       "    <tr style=\"text-align: right;\">\n",
       "      <th></th>\n",
       "      <th></th>\n",
       "      <th></th>\n",
       "      <th>REVENUCODE</th>\n",
       "      <th>1.0</th>\n",
       "      <th>3.0</th>\n",
       "      <th>5.0</th>\n",
       "      <th>12.0</th>\n",
       "    </tr>\n",
       "    <tr>\n",
       "      <th>EVE</th>\n",
       "      <th>DAY</th>\n",
       "      <th>MORN</th>\n",
       "      <th>NIGHT</th>\n",
       "      <th></th>\n",
       "      <th></th>\n",
       "      <th></th>\n",
       "      <th></th>\n",
       "    </tr>\n",
       "  </thead>\n",
       "  <tbody>\n",
       "    <tr>\n",
       "      <th rowspan=\"3\" valign=\"top\">0</th>\n",
       "      <th rowspan=\"2\" valign=\"top\">0</th>\n",
       "      <th>0</th>\n",
       "      <th>1</th>\n",
       "      <td>0.082159</td>\n",
       "      <td>0.620576</td>\n",
       "      <td>26.445314</td>\n",
       "      <td>0.051700</td>\n",
       "    </tr>\n",
       "    <tr>\n",
       "      <th>1</th>\n",
       "      <th>0</th>\n",
       "      <td>0.116289</td>\n",
       "      <td>0.870792</td>\n",
       "      <td>13.222196</td>\n",
       "      <td>0.063659</td>\n",
       "    </tr>\n",
       "    <tr>\n",
       "      <th>1</th>\n",
       "      <th>0</th>\n",
       "      <th>0</th>\n",
       "      <td>0.078363</td>\n",
       "      <td>0.809700</td>\n",
       "      <td>45.703597</td>\n",
       "      <td>0.045903</td>\n",
       "    </tr>\n",
       "    <tr>\n",
       "      <th>1</th>\n",
       "      <th>0</th>\n",
       "      <th>0</th>\n",
       "      <th>0</th>\n",
       "      <td>0.088359</td>\n",
       "      <td>0.756594</td>\n",
       "      <td>47.417783</td>\n",
       "      <td>0.050404</td>\n",
       "    </tr>\n",
       "  </tbody>\n",
       "</table>\n",
       "</div>"
      ],
      "text/plain": [
       "REVENUCODE              1.0       3.0        5.0       12.0\n",
       "EVE DAY MORN NIGHT                                         \n",
       "0   0   0    1      0.082159  0.620576  26.445314  0.051700\n",
       "        1    0      0.116289  0.870792  13.222196  0.063659\n",
       "    1   0    0      0.078363  0.809700  45.703597  0.045903\n",
       "1   0   0    0      0.088359  0.756594  47.417783  0.050404"
      ]
     },
     "execution_count": 21,
     "metadata": {},
     "output_type": "execute_result"
    }
   ],
   "source": [
    "(tidy_use[['REVENUCODE','MORN','DAY','EVE','NIGHT','Use']].groupby(['REVENUCODE','MORN','DAY','EVE','NIGHT']).mean()\n",
    " .pivot_table(index=['EVE','DAY','MORN','NIGHT'], columns='REVENUCODE', values='Use', fill_value=None))"
   ]
  },
  {
   "cell_type": "code",
   "execution_count": 22,
   "metadata": {},
   "outputs": [],
   "source": [
    "# Add dummy variables for holidays\n",
    "from pandas.tseries.holiday import USFederalHolidayCalendar\n",
    "cal = USFederalHolidayCalendar()\n",
    "#dr = pd.date_range(start=min(tidy_use['Dt']), end=max(tidy_use['Dt']))\n",
    "dr = pd.date_range(start=\"1-1-2010\", end=\"12-31-2020\")\n",
    "holidays = cal.holidays(start=dr.min(), end=dr.max())\n",
    "\n",
    "tidy_use['Holiday'] = pd.get_dummies(tidy_use['Dt'].isin(holidays))[True]\n",
    "del (USFederalHolidayCalendar, cal, dr, holidays)\n",
    "#tidy_use.head()"
   ]
  },
  {
   "cell_type": "code",
   "execution_count": 23,
   "metadata": {},
   "outputs": [
    {
     "data": {
      "text/html": [
       "<div>\n",
       "<style scoped>\n",
       "    .dataframe tbody tr th:only-of-type {\n",
       "        vertical-align: middle;\n",
       "    }\n",
       "\n",
       "    .dataframe tbody tr th {\n",
       "        vertical-align: top;\n",
       "    }\n",
       "\n",
       "    .dataframe thead th {\n",
       "        text-align: right;\n",
       "    }\n",
       "</style>\n",
       "<table border=\"1\" class=\"dataframe\">\n",
       "  <thead>\n",
       "    <tr style=\"text-align: right;\">\n",
       "      <th></th>\n",
       "      <th>ID</th>\n",
       "      <th>DACCOUNTID</th>\n",
       "      <th>DMETERNO</th>\n",
       "      <th>Use</th>\n",
       "      <th>DCUSTOMERID</th>\n",
       "      <th>TARIFF</th>\n",
       "      <th>FUELTYPE</th>\n",
       "      <th>REVENUCODE</th>\n",
       "      <th>Dt</th>\n",
       "      <th>Weekday</th>\n",
       "      <th>MORN</th>\n",
       "      <th>DAY</th>\n",
       "      <th>EVE</th>\n",
       "      <th>NIGHT</th>\n",
       "      <th>Holiday</th>\n",
       "    </tr>\n",
       "  </thead>\n",
       "  <tbody>\n",
       "    <tr>\n",
       "      <th>39207263</th>\n",
       "      <td>(331345825806000, 3881647153052)</td>\n",
       "      <td>331345825806000</td>\n",
       "      <td>3881647153052</td>\n",
       "      <td>0.0</td>\n",
       "      <td>3387540197316</td>\n",
       "      <td>GH0</td>\n",
       "      <td>GAS</td>\n",
       "      <td>1.0</td>\n",
       "      <td>2017-10-01</td>\n",
       "      <td>0</td>\n",
       "      <td>0</td>\n",
       "      <td>0</td>\n",
       "      <td>0</td>\n",
       "      <td>1</td>\n",
       "      <td>0</td>\n",
       "    </tr>\n",
       "    <tr>\n",
       "      <th>15258191</th>\n",
       "      <td>(131301502768284, 4464587014388)</td>\n",
       "      <td>131301502768284</td>\n",
       "      <td>4464587014388</td>\n",
       "      <td>0.0</td>\n",
       "      <td>16165253578784</td>\n",
       "      <td>GH0</td>\n",
       "      <td>GAS</td>\n",
       "      <td>1.0</td>\n",
       "      <td>2017-10-01</td>\n",
       "      <td>0</td>\n",
       "      <td>0</td>\n",
       "      <td>0</td>\n",
       "      <td>0</td>\n",
       "      <td>1</td>\n",
       "      <td>0</td>\n",
       "    </tr>\n",
       "    <tr>\n",
       "      <th>41605933</th>\n",
       "      <td>(284922792955308, 729979045712)</td>\n",
       "      <td>284922792955308</td>\n",
       "      <td>729979045712</td>\n",
       "      <td>0.0</td>\n",
       "      <td>2921994604260</td>\n",
       "      <td>GH0</td>\n",
       "      <td>GAS</td>\n",
       "      <td>1.0</td>\n",
       "      <td>2017-10-01</td>\n",
       "      <td>0</td>\n",
       "      <td>0</td>\n",
       "      <td>0</td>\n",
       "      <td>0</td>\n",
       "      <td>1</td>\n",
       "      <td>0</td>\n",
       "    </tr>\n",
       "    <tr>\n",
       "      <th>41709601</th>\n",
       "      <td>(152994924937308, 724945750304)</td>\n",
       "      <td>152994924937308</td>\n",
       "      <td>724945750304</td>\n",
       "      <td>0.0</td>\n",
       "      <td>3403523328224</td>\n",
       "      <td>UHC</td>\n",
       "      <td>GAS</td>\n",
       "      <td>3.0</td>\n",
       "      <td>2017-10-01</td>\n",
       "      <td>0</td>\n",
       "      <td>0</td>\n",
       "      <td>0</td>\n",
       "      <td>0</td>\n",
       "      <td>1</td>\n",
       "      <td>0</td>\n",
       "    </tr>\n",
       "    <tr>\n",
       "      <th>8166791</th>\n",
       "      <td>(92034922962460, 609973195576)</td>\n",
       "      <td>92034922962460</td>\n",
       "      <td>609973195576</td>\n",
       "      <td>0.0</td>\n",
       "      <td>990318530984</td>\n",
       "      <td>GH0</td>\n",
       "      <td>GAS</td>\n",
       "      <td>1.0</td>\n",
       "      <td>2017-10-01</td>\n",
       "      <td>0</td>\n",
       "      <td>0</td>\n",
       "      <td>0</td>\n",
       "      <td>0</td>\n",
       "      <td>1</td>\n",
       "      <td>0</td>\n",
       "    </tr>\n",
       "  </tbody>\n",
       "</table>\n",
       "</div>"
      ],
      "text/plain": [
       "                                        ID       DACCOUNTID       DMETERNO  \\\n",
       "39207263  (331345825806000, 3881647153052)  331345825806000  3881647153052   \n",
       "15258191  (131301502768284, 4464587014388)  131301502768284  4464587014388   \n",
       "41605933   (284922792955308, 729979045712)  284922792955308   729979045712   \n",
       "41709601   (152994924937308, 724945750304)  152994924937308   724945750304   \n",
       "8166791     (92034922962460, 609973195576)   92034922962460   609973195576   \n",
       "\n",
       "          Use     DCUSTOMERID TARIFF FUELTYPE  REVENUCODE         Dt  Weekday  \\\n",
       "39207263  0.0   3387540197316    GH0      GAS         1.0 2017-10-01        0   \n",
       "15258191  0.0  16165253578784    GH0      GAS         1.0 2017-10-01        0   \n",
       "41605933  0.0   2921994604260    GH0      GAS         1.0 2017-10-01        0   \n",
       "41709601  0.0   3403523328224    UHC      GAS         3.0 2017-10-01        0   \n",
       "8166791   0.0    990318530984    GH0      GAS         1.0 2017-10-01        0   \n",
       "\n",
       "          MORN  DAY  EVE  NIGHT  Holiday  \n",
       "39207263     0    0    0      1        0  \n",
       "15258191     0    0    0      1        0  \n",
       "41605933     0    0    0      1        0  \n",
       "41709601     0    0    0      1        0  \n",
       "8166791      0    0    0      1        0  "
      ]
     },
     "execution_count": 23,
     "metadata": {},
     "output_type": "execute_result"
    }
   ],
   "source": [
    "# sort by date & time\n",
    "tidy_use = tidy_use.drop(columns=['Dt','year','month','day','Hour'])\n",
    "tidy_use = tidy_use.sort_values(by=['datetime'])\n",
    "tidy_use = tidy_use.rename(columns={'datetime':'Dt'}) # for consistency\n",
    "tidy_use.head()"
   ]
  },
  {
   "cell_type": "markdown",
   "metadata": {},
   "source": [
    "#### Quick look at amount of data we have per ID ####"
   ]
  },
  {
   "cell_type": "code",
   "execution_count": 24,
   "metadata": {},
   "outputs": [
    {
     "name": "stdout",
     "output_type": "stream",
     "text": [
      "There is no missing data in the 54706704 rows of useage data\n"
     ]
    }
   ],
   "source": [
    "# drop records with missing data\n",
    "if len(tidy_use) == len(tidy_use.dropna(subset=['Use'])):\n",
    "    print(f'There is no missing data in the {len(tidy_use)} rows of useage data')\n",
    "else:\n",
    "    tidy_use = tidy_use.dropna(subset=['Use'])"
   ]
  },
  {
   "cell_type": "code",
   "execution_count": 25,
   "metadata": {},
   "outputs": [
    {
     "name": "stdout",
     "output_type": "stream",
     "text": [
      "There are 6976 unique AccountIDs in the data\n",
      "There are 6953 unique MeterNos in the data\n",
      "There are 7097 unique AccountID / MeterNo pairs in the data\n"
     ]
    }
   ],
   "source": [
    "print(f\"There are {len(tidy_use['DACCOUNTID'].drop_duplicates())} unique AccountIDs in the data\")\n",
    "print(f\"There are {len(tidy_use['DMETERNO'].drop_duplicates())} unique MeterNos in the data\")\n",
    "ids = tidy_use['ID'].drop_duplicates()\n",
    "print(f\"There are {len(ids)} unique AccountID / MeterNo pairs in the data\")"
   ]
  },
  {
   "cell_type": "code",
   "execution_count": 26,
   "metadata": {},
   "outputs": [
    {
     "data": {
      "text/plain": [
       "Text(0.5, 1.0, 'Frequency of IDs with X dates')"
      ]
     },
     "execution_count": 26,
     "metadata": {},
     "output_type": "execute_result"
    }
   ],
   "source": [
    "import seaborn as sns\n",
    "import matplotlib.pyplot as plt\n",
    "ids_to_plot = tidy_use.groupby(['ID']).count()\n",
    "sns.distplot(ids_to_plot['Use'], bins=20, kde=False, rug=False)\n",
    "plt.title('Frequency of IDs with X dates')"
   ]
  },
  {
   "cell_type": "code",
   "execution_count": 27,
   "metadata": {},
   "outputs": [
    {
     "data": {
      "text/plain": [
       "Text(0.5, 1.0, 'Frequency of IDs with at least 7920 hours (330 days)')"
      ]
     },
     "execution_count": 27,
     "metadata": {},
     "output_type": "execute_result"
    },
    {
     "data": {
      "image/png": "[encoded data removed]",
      "text/plain": [
       "<Figure size 432x288 with 1 Axes>"
      ]
     },
     "metadata": {
      "needs_background": "light"
     },
     "output_type": "display_data"
    }
   ],
   "source": [
    "sns.distplot(ids_to_plot[ids_to_plot['Use'] > (7920)]['Use'], bins=50, kde=False, rug=False)\n",
    "plt.title('Frequency of IDs with at least 7920 hours (330 days)')"
   ]
  },
  {
   "cell_type": "markdown",
   "metadata": {},
   "source": [
    "#### Find IDs with sufficient data to build initial segments on --> reliable training set ####"
   ]
  },
  {
   "cell_type": "code",
   "execution_count": 28,
   "metadata": {},
   "outputs": [
    {
     "name": "stdout",
     "output_type": "stream",
     "text": [
      "76.90573481752854 percent of IDs have at least 8640 hours (360 days) of data\n"
     ]
    }
   ],
   "source": [
    "# find IDs with at least 360 days of data\n",
    "sufficient_ids = ids_to_plot[ids_to_plot['Use'] >= 8640].reset_index()['ID']\n",
    "print(f\"{100*len(sufficient_ids)/len(tidy_use['ID'].unique())} percent of IDs have at least 8640 hours (360 days) of data\")"
   ]
  },
  {
   "cell_type": "code",
   "execution_count": 29,
   "metadata": {},
   "outputs": [
    {
     "name": "stdout",
     "output_type": "stream",
     "text": [
      "The IDs with sufficient data overlap on 7728 hours (322.0 days) of the most recent year of data\n"
     ]
    }
   ],
   "source": [
    "# find the dates for which sufficient_ids all have data\n",
    "pivoted = (tidy_use[tidy_use['ID'].isin(sufficient_ids)]\n",
    "           .pivot_table(index=['Dt'], columns=['ID'], values='Use', fill_value=None))\n",
    "sufficient_dates = pivoted.dropna().reset_index()['Dt']\n",
    "del pivoted\n",
    "print(f\"The IDs with sufficient data overlap on {len(sufficient_dates)} hours ({len(sufficient_dates)/24} days) of the most recent year of data\")"
   ]
  },
  {
   "cell_type": "code",
   "execution_count": 30,
   "metadata": {
    "scrolled": true
   },
   "outputs": [],
   "source": [
    "# filter total use dataset to contain only IDs who have sufficient data and only dates where sufficient_ids have data\n",
    "sufficient_use = tidy_use[(tidy_use['ID'].isin(sufficient_ids)) & (tidy_use['Dt'].isin(sufficient_dates))]\n",
    "#sufficient_use.head()"
   ]
  },
  {
   "cell_type": "code",
   "execution_count": 31,
   "metadata": {},
   "outputs": [
    {
     "name": "stdout",
     "output_type": "stream",
     "text": [
      "54706704\n",
      "42418992\n",
      "7097\n",
      "5458\n"
     ]
    }
   ],
   "source": [
    "#sanity check\n",
    "print(len(tidy_use))\n",
    "print(len(sufficient_use))\n",
    "print(len(ids))\n",
    "print(len(sufficient_ids))"
   ]
  },
  {
   "cell_type": "markdown",
   "metadata": {},
   "source": [
    "### Subgroup detection ###"
   ]
  },
  {
   "cell_type": "code",
   "execution_count": 32,
   "metadata": {},
   "outputs": [],
   "source": [
    "# print(tidy_use[['ID','REVENUCODE']].drop_duplicates().groupby('REVENUCODE').count())\n",
    "# print(\"nan           \"+str(len(tidy_use[np.isnan(tidy_use['REVENUCODE'])][['ID']].drop_duplicates())))"
   ]
  },
  {
   "cell_type": "code",
   "execution_count": 33,
   "metadata": {},
   "outputs": [],
   "source": [
    "# print(tidy_use[['ID','REVENUCODE']].drop_duplicates().groupby('REVENUCODE').count())\n",
    "# print(\"nan           \"+str(len(tidy_use[np.isnan(tidy_use['REVENUCODE'])][['ID']].drop_duplicates())))"
   ]
  },
  {
   "cell_type": "code",
   "execution_count": 34,
   "metadata": {},
   "outputs": [],
   "source": [
    "# # recode 'REVENUCODE' as 'TYPE'\n",
    "# def recode(df):\n",
    "#     \"\"\"combines REVENUCODE groups 1,12,nan to HOME and 3,5 to COMMERICAL\"\"\"\n",
    "#     df['TYPE'] = None\n",
    "#     df.loc[ df.REVENUCODE == 1, 'TYPE' ] = 'HOME'\n",
    "#     df.loc[ df.REVENUCODE == 12, 'TYPE' ] = 'HOME'\n",
    "#     df.loc[ np.isnan(df['REVENUCODE']), 'TYPE' ] = 'HOME'\n",
    "#     df.loc[ df.REVENUCODE == 3, 'TYPE' ] = 'COMM'\n",
    "#     df.loc[ df.REVENUCODE == 5, 'TYPE' ] = 'COMM'\n",
    "    \n",
    "#     #df['TYPE'][df['REVENUCODE']==1] = 'HOME'\n",
    "#     #df['TYPE'][df['REVENUCODE']==12] = 'HOME'\n",
    "#     #df['TYPE'][np.isnan(df['REVENUCODE'])] = 'HOME'\n",
    "#     #df['TYPE'][df['REVENUCODE']==3] = 'COMM'\n",
    "#     #df['TYPE'][df['REVENUCODE']==5] = 'COMM'\n",
    "    \n",
    "#     return df"
   ]
  },
  {
   "cell_type": "code",
   "execution_count": 35,
   "metadata": {},
   "outputs": [],
   "source": [
    "# # ignore errors\n",
    "# tidy_use = recode(tidy_use)\n",
    "# sufficient_use = recode(sufficient_use)"
   ]
  },
  {
   "cell_type": "markdown",
   "metadata": {},
   "source": [
    "### Save ###"
   ]
  },
  {
   "cell_type": "code",
   "execution_count": null,
   "metadata": {},
   "outputs": [],
   "source": [
    "# save file(s) as pickles\n",
    "# using save location to save with other data files outside of git repo\n",
    "# data.to_csv(location+'peco.csv', sep='\\t')\n",
    "tidy_use.to_pickle(location+'peco_hourly.pkl.zip')\n",
    "sufficient_use.to_pickle(location+'peco_sufficient_hourly.pkl.zip')\n",
    "ids.to_pickle(location+'peco_hourly_ids.pkl.zip')\n",
    "sufficient_ids.to_pickle(location+'peco_sufficient_hourly_ids.pkl.zip')"
   ]
  },
  {
   "cell_type": "markdown",
   "metadata": {},
   "source": [
    " ### Merge use & weather? ###"
   ]
  },
  {
   "cell_type": "code",
   "execution_count": null,
   "metadata": {},
   "outputs": [],
   "source": [
    "# # load data\n",
    "# hourly = pd.read_pickle(location+'peco_hourly.pkl.zip')\n",
    "# sufficient_hourly = pd.read_pickle(location+'peco_sufficient_hourly.pkl.zip')\n",
    "# weather = pd.read_pickle(location+'hourly_weather.pkl.zip')"
   ]
  },
  {
   "cell_type": "code",
   "execution_count": null,
   "metadata": {},
   "outputs": [],
   "source": [
    "# # merge\n",
    "# hourly = pd.merge(hourly, weather, how='inner', on=['Dt'])\n",
    "# sufficient_hourly = pd.merge(sufficient_hourly, weather, how='inner', on=['Dt'])\n",
    "# # CustIDs || Date | Consumption |||| Weather_variables "
   ]
  },
  {
   "cell_type": "code",
   "execution_count": null,
   "metadata": {},
   "outputs": [],
   "source": []
  }
 ],
 "metadata": {
  "kernelspec": {
   "display_name": "Python 3",
   "language": "python",
   "name": "python3"
  },
  "language_info": {
   "codemirror_mode": {
    "name": "ipython",
    "version": 3
   },
   "file_extension": ".py",
   "mimetype": "text/x-python",
   "name": "python",
   "nbconvert_exporter": "python",
   "pygments_lexer": "ipython3",
   "version": "3.7.0"
  }
 },
 "nbformat": 4,
 "nbformat_minor": 2
}
