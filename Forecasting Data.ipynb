{
 "cells": [
  {
   "cell_type": "markdown",
   "metadata": {},
   "source": [
    "# Forecasting Data #"
   ]
  },
  {
   "cell_type": "code",
   "execution_count": 72,
   "metadata": {},
   "outputs": [],
   "source": [
    "# imports\n",
    "import pandas as pd\n",
    "import numpy as np\n",
    "import time\n",
    "from timeit import default_timer as timer\n",
    "import gc"
   ]
  },
  {
   "cell_type": "code",
   "execution_count": 73,
   "metadata": {},
   "outputs": [],
   "source": [
    "# define data location\n",
    "#location = '/Users/mithras/Documents/_SCHOOL/_Drexel/BUSN 710 - Capstone/Data/Forecasting Project/'\n",
    "location = '/Users/loki/Documents/_SCHOOL/_Drexel/BUSN 710 - Capstone/Data/Forecasting Project/'"
   ]
  },
  {
   "cell_type": "markdown",
   "metadata": {},
   "source": [
    "## Data Cleaning & Checking "
   ]
  },
  {
   "cell_type": "code",
   "execution_count": 74,
   "metadata": {},
   "outputs": [],
   "source": [
    "# # hourly data\n",
    "# start = timer()\n",
    "\n",
    "# use_oct_in = pd.read_excel(location+'PECO Zip HourlyUsage_2017.10.xlsx')\n",
    "# use_nov_in = pd.read_excel(location+'PECO Zip HourlyUsage_2017.11.xlsx') \n",
    "# use_dec_in = pd.read_excel(location+'PECO Zip HourlyUsage_2017.12.xlsx') \n",
    "# use_jan_in = pd.read_excel(location+'Zip_HourlylUsage_2018.01.xlsx')\n",
    "# use_feb_in = pd.read_excel(location+'PECO Zip HourlyUsage_2018.02.xlsx')\n",
    "# use_mar_in = pd.read_excel(location+'PECO Zip HourlyUsage_2018.03.xlsx')\n",
    "# use_apr_in = pd.read_excel(location+'PECO Zip HourlyUsage_2018.04.xlsx')\n",
    "# use_may_in = pd.read_excel(location+'PECO Zip HourlyUsage_2018.05.xlsx')\n",
    "# use_jun_in = pd.read_excel(location+'PECO Zip HourlyUsage_2018.06.xlsx')\n",
    "# use_jul_in = pd.read_excel(location+'Zip_HourlylUsage_2018.07.xlsx')\n",
    "# use_aug_in = pd.read_excel(location+'PECO Zip HourlyUsage_2018.08.xlsx')\n",
    "# use_sep_in = pd.read_excel(location+'PECO Zip HourlyUsage_2018.09.xlsx')\n",
    "\n",
    "# use_oct_in2 = pd.read_excel(location+'PECO Zip HourlyUsage_2016.10.xlsx')\n",
    "# use_nov_in2 = pd.read_excel(location+'PECO Zip HourlyUsage_2016.11.xlsx') \n",
    "# use_dec_in2 = pd.read_excel(location+'PECO Zip HourlyUsage_2016.12.xlsx') \n",
    "# use_jan_in2 = pd.read_excel(location+'PECO Zip HourlyUsage_2017.01.xlsx')\n",
    "# use_feb_in2 = pd.read_excel(location+'PECO Zip HourlyUsage_2017.02.xlsx')\n",
    "# use_mar_in2 = pd.read_excel(location+'PECO Zip HourlyUsage_2017.03.xlsx')\n",
    "# use_apr_in2 = pd.read_excel(location+'PECO Zip HourlyUsage_2017.04.xlsx')\n",
    "# use_may_in2 = pd.read_excel(location+'PECO Zip HourlyUsage_2017.05.xlsx')\n",
    "# use_jun_in2 = pd.read_excel(location+'PECO Zip HourlyUsage_2017.06.xlsx')\n",
    "# use_jul_in2 = pd.read_excel(location+'PECO Zip HourlyUsage_2017.07.xlsx')\n",
    "# use_aug_in2 = pd.read_excel(location+'PECO Zip HourlyUsage_2017.08.xlsx')\n",
    "# use_sep_in2 = pd.read_excel(location+'PECO Zip HourlyUsage_2017.09.xlsx')\n",
    "\n",
    "# end = timer()\n",
    "# print((end - start)/60) # Time in minutes (~25 min)"
   ]
  },
  {
   "cell_type": "code",
   "execution_count": 75,
   "metadata": {},
   "outputs": [],
   "source": [
    "# # merge use data\n",
    "# hourly_in = [use_oct_in, use_nov_in, use_dec_in, use_jan_in, use_feb_in, use_mar_in, \n",
    "#              use_apr_in, use_may_in, use_jun_in, use_jul_in, use_aug_in, use_sep_in,\n",
    "#              use_oct_in2, use_nov_in2, use_dec_in2, use_jan_in2, use_feb_in2, use_mar_in2, \n",
    "#              use_apr_in2, use_may_in2, use_jun_in2, use_jul_in2, use_aug_in2, use_sep_in2]\n",
    "             \n",
    "# use = pd.concat(hourly_in)"
   ]
  },
  {
   "cell_type": "code",
   "execution_count": 76,
   "metadata": {},
   "outputs": [],
   "source": [
    "# del (use_oct_in, use_nov_in, use_dec_in, use_jan_in, use_feb_in, use_mar_in, \n",
    "#      use_apr_in, use_may_in, use_jun_in, use_jul_in, use_aug_in, use_sep_in,\n",
    "#      use_oct_in2, use_nov_in2, use_dec_in2, use_jan_in2, use_feb_in2, use_mar_in2, \n",
    "#      use_apr_in2, use_may_in2, use_jun_in2, use_jul_in2, use_aug_in2, use_sep_in2)\n",
    "# del hourly_in"
   ]
  },
  {
   "cell_type": "code",
   "execution_count": 77,
   "metadata": {},
   "outputs": [],
   "source": [
    "# # save as pickle so we don't have to do this again\n",
    "# use.to_pickle(location+'fcast_use_raw.pkl.zip')\n",
    "# del use"
   ]
  },
  {
   "cell_type": "code",
   "execution_count": 78,
   "metadata": {},
   "outputs": [
    {
     "name": "stdout",
     "output_type": "stream",
     "text": [
      "0.524653041816661\n"
     ]
    }
   ],
   "source": [
    "# load pickle\n",
    "start = timer()\n",
    "\n",
    "use = pd.read_pickle(location+'fcast_use_raw.pkl.zip')\n",
    "\n",
    "end = timer()\n",
    "print((end - start)/60) # Time in minutes (~.5 min - MUCH FASTER!!)"
   ]
  },
  {
   "cell_type": "code",
   "execution_count": 79,
   "metadata": {},
   "outputs": [],
   "source": [
    "# create ID tuple\n",
    "ids = pd.Series(list(map(tuple, use[['DACCOUNTID', 'DMETERNO']].values)))\n",
    "use['ID'] = ids.values\n",
    "\n",
    "# find gas records\n",
    "use = use.loc[use['UOM'] == 'CCF']\n",
    "use = use.drop(columns=['UOM'])\n",
    "\n",
    "# convert to datetime\n",
    "use['Dt'] =  pd.to_datetime(use['METERREADDATE'])"
   ]
  },
  {
   "cell_type": "code",
   "execution_count": 80,
   "metadata": {},
   "outputs": [],
   "source": [
    "# load customer data\n",
    "customer_in = pd.read_excel(location+'PECO Zip Customer 2018.10.01 v2.xlsx', sheet_name=\"Account\")\n",
    "ids = pd.Series(list(map(tuple, customer_in[['DACCOUNTID', 'DMETERNO']].values)))\n",
    "customer_in['ID'] = ids.values\n",
    "customer = customer_in.drop(columns=['CITY', 'STATE', 'ZIPCODE', 'COUNTYCODE'])\n",
    "del customer_in"
   ]
  },
  {
   "cell_type": "markdown",
   "metadata": {},
   "source": [
    "## Data Restructuring ##"
   ]
  },
  {
   "cell_type": "code",
   "execution_count": 81,
   "metadata": {},
   "outputs": [],
   "source": [
    "# functions for naming consistency\n",
    "def decrement(x, startswith, split):\n",
    "    \"\"\"\n",
    "    decrements a passed string of form \"demo#\" by 1\n",
    "    \n",
    "    Parameters\n",
    "    ----------\n",
    "    x : string to be decremented\n",
    "    split : string to split on\n",
    "\n",
    "    Returns\n",
    "    ----------\n",
    "    y : decremented string\n",
    "    \"\"\"\n",
    "    if x.startswith(startswith):\n",
    "        a,b = x.split(split)\n",
    "        b = int(b)-1\n",
    "        y = a + split + str(b)\n",
    "\n",
    "        return y\n",
    "\n",
    "    else:\n",
    "        return x\n",
    "\n",
    "    \n",
    "def interval_to_hour(df):\n",
    "    \"\"\"\n",
    "    function for fast rename/relabel during tidying process\n",
    "    \n",
    "    Parameters\n",
    "    ----------\n",
    "    df : pandas data frame\n",
    "\n",
    "    Returns\n",
    "    ----------\n",
    "    df : data frame with updated column names\n",
    "    \"\"\"\n",
    "    \n",
    "    df = df.rename(columns=lambda x: decrement(x, \"INTERVAL_\", \"_\"))\n",
    "    df = df.rename(columns=lambda x: x.replace(\"INTERVAL_\", \"HR\"))\n",
    "    return df"
   ]
  },
  {
   "cell_type": "code",
   "execution_count": 82,
   "metadata": {},
   "outputs": [],
   "source": [
    "# rename for consistency\n",
    "use = interval_to_hour(use)\n",
    "use = use.drop(columns=['METERREADDATE','HR24'])"
   ]
  },
  {
   "cell_type": "code",
   "execution_count": 83,
   "metadata": {},
   "outputs": [],
   "source": [
    "# Tidy / Stack data (transform into tall data - one row per customer per hour):\n",
    "# ref: http://www.jeannicholashould.com/tidy-data-in-python.html\n",
    "tidy_use = pd.melt(use, \n",
    "                   id_vars=['ID','DACCOUNTID','DMETERNO','Dt'],\n",
    "                   var_name='Hour', value_name='Use')\n"
   ]
  },
  {
   "cell_type": "code",
   "execution_count": 84,
   "metadata": {},
   "outputs": [],
   "source": [
    "# drop use from memory\n",
    "del use"
   ]
  },
  {
   "cell_type": "code",
   "execution_count": 85,
   "metadata": {},
   "outputs": [],
   "source": [
    "# relabel/retype\n",
    "tidy_use['Hour'] = tidy_use['Hour'].str.extract('(\\d+)').astype(int)\n",
    "tidy_use = tidy_use.sort_values(by=[\"Dt\"])"
   ]
  },
  {
   "cell_type": "markdown",
   "metadata": {},
   "source": [
    "### Make daily data ###"
   ]
  },
  {
   "cell_type": "code",
   "execution_count": 86,
   "metadata": {},
   "outputs": [
    {
     "name": "stderr",
     "output_type": "stream",
     "text": [
      "/Library/Frameworks/Python.framework/Versions/3.7/lib/python3.7/site-packages/ipykernel_launcher.py:3: SettingWithCopyWarning: \n",
      "A value is trying to be set on a copy of a slice from a DataFrame.\n",
      "Try using .loc[row_indexer,col_indexer] = value instead\n",
      "\n",
      "See the caveats in the documentation: http://pandas.pydata.org/pandas-docs/stable/indexing.html#indexing-view-versus-copy\n",
      "  This is separate from the ipykernel package so we can avoid doing imports until\n",
      "/Library/Frameworks/Python.framework/Versions/3.7/lib/python3.7/site-packages/ipykernel_launcher.py:4: SettingWithCopyWarning: \n",
      "A value is trying to be set on a copy of a slice from a DataFrame.\n",
      "Try using .loc[row_indexer,col_indexer] = value instead\n",
      "\n",
      "See the caveats in the documentation: http://pandas.pydata.org/pandas-docs/stable/indexing.html#indexing-view-versus-copy\n",
      "  after removing the cwd from sys.path.\n"
     ]
    }
   ],
   "source": [
    "# for daily aggregation\n",
    "daily_use = tidy_use[['ID','Use','Dt']]\n",
    "daily_use['Dt'] = daily_use['Dt'].dt.date\n",
    "daily_use['Dt'] =  pd.to_datetime(daily_use['Dt'])\n",
    "daily_use = daily_use.groupby(['ID','Dt']).sum().reset_index()"
   ]
  },
  {
   "cell_type": "code",
   "execution_count": 87,
   "metadata": {},
   "outputs": [],
   "source": [
    "# append rate code data\n",
    "daily_use = daily_use.merge(customer, how='inner', on=['ID'])\n",
    "#daily_use.head()"
   ]
  },
  {
   "cell_type": "code",
   "execution_count": 88,
   "metadata": {},
   "outputs": [],
   "source": [
    "# Add dummy variables for day-of-week\n",
    "daily_use['Weekday'] = pd.get_dummies(daily_use['Dt'].dt.weekday < 5)[True]\n",
    "\n",
    "# Add dummy variables for holidays\n",
    "from pandas.tseries.holiday import USFederalHolidayCalendar\n",
    "cal = USFederalHolidayCalendar()\n",
    "#dr = pd.date_range(start=min(tidy_use['Dt']), end=max(tidy_use['Dt']))\n",
    "dr = pd.date_range(start=\"1-1-2010\", end=\"12-31-2020\")\n",
    "holidays = cal.holidays(start=dr.min(), end=dr.max())\n",
    "\n",
    "daily_use['Holiday'] = pd.get_dummies(daily_use['Dt'].isin(holidays))[True]\n",
    "del (USFederalHolidayCalendar, cal, dr, holidays)\n",
    "#daily_use.head()"
   ]
  },
  {
   "cell_type": "code",
   "execution_count": 89,
   "metadata": {},
   "outputs": [
    {
     "name": "stdout",
     "output_type": "stream",
     "text": [
      "(3741870, 11)\n"
     ]
    },
    {
     "data": {
      "text/html": [
       "<div>\n",
       "<style scoped>\n",
       "    .dataframe tbody tr th:only-of-type {\n",
       "        vertical-align: middle;\n",
       "    }\n",
       "\n",
       "    .dataframe tbody tr th {\n",
       "        vertical-align: top;\n",
       "    }\n",
       "\n",
       "    .dataframe thead th {\n",
       "        text-align: right;\n",
       "    }\n",
       "</style>\n",
       "<table border=\"1\" class=\"dataframe\">\n",
       "  <thead>\n",
       "    <tr style=\"text-align: right;\">\n",
       "      <th></th>\n",
       "      <th>ID</th>\n",
       "      <th>Dt</th>\n",
       "      <th>Use</th>\n",
       "      <th>DACCOUNTID</th>\n",
       "      <th>DCUSTOMERID</th>\n",
       "      <th>DMETERNO</th>\n",
       "      <th>TARIFF</th>\n",
       "      <th>FUELTYPE</th>\n",
       "      <th>REVENUCODE</th>\n",
       "      <th>Weekday</th>\n",
       "      <th>Holiday</th>\n",
       "    </tr>\n",
       "  </thead>\n",
       "  <tbody>\n",
       "    <tr>\n",
       "      <th>1595537</th>\n",
       "      <td>(152969759120072, 5472501198444)</td>\n",
       "      <td>2016-10-01</td>\n",
       "      <td>243.39</td>\n",
       "      <td>152969759120072</td>\n",
       "      <td>1599795980884</td>\n",
       "      <td>5472501198444</td>\n",
       "      <td>TFG</td>\n",
       "      <td>GAS</td>\n",
       "      <td>5.0</td>\n",
       "      <td>0</td>\n",
       "      <td>0</td>\n",
       "    </tr>\n",
       "    <tr>\n",
       "      <th>1595538</th>\n",
       "      <td>(152969759120072, 5472501198444)</td>\n",
       "      <td>2016-10-02</td>\n",
       "      <td>223.09</td>\n",
       "      <td>152969759120072</td>\n",
       "      <td>1599795980884</td>\n",
       "      <td>5472501198444</td>\n",
       "      <td>TFG</td>\n",
       "      <td>GAS</td>\n",
       "      <td>5.0</td>\n",
       "      <td>0</td>\n",
       "      <td>0</td>\n",
       "    </tr>\n",
       "    <tr>\n",
       "      <th>1595539</th>\n",
       "      <td>(152969759120072, 5472501198444)</td>\n",
       "      <td>2016-10-03</td>\n",
       "      <td>174.88</td>\n",
       "      <td>152969759120072</td>\n",
       "      <td>1599795980884</td>\n",
       "      <td>5472501198444</td>\n",
       "      <td>TFG</td>\n",
       "      <td>GAS</td>\n",
       "      <td>5.0</td>\n",
       "      <td>1</td>\n",
       "      <td>0</td>\n",
       "    </tr>\n",
       "    <tr>\n",
       "      <th>1595540</th>\n",
       "      <td>(152969759120072, 5472501198444)</td>\n",
       "      <td>2016-10-04</td>\n",
       "      <td>214.29</td>\n",
       "      <td>152969759120072</td>\n",
       "      <td>1599795980884</td>\n",
       "      <td>5472501198444</td>\n",
       "      <td>TFG</td>\n",
       "      <td>GAS</td>\n",
       "      <td>5.0</td>\n",
       "      <td>1</td>\n",
       "      <td>0</td>\n",
       "    </tr>\n",
       "    <tr>\n",
       "      <th>1595541</th>\n",
       "      <td>(152969759120072, 5472501198444)</td>\n",
       "      <td>2016-10-05</td>\n",
       "      <td>223.77</td>\n",
       "      <td>152969759120072</td>\n",
       "      <td>1599795980884</td>\n",
       "      <td>5472501198444</td>\n",
       "      <td>TFG</td>\n",
       "      <td>GAS</td>\n",
       "      <td>5.0</td>\n",
       "      <td>1</td>\n",
       "      <td>0</td>\n",
       "    </tr>\n",
       "  </tbody>\n",
       "</table>\n",
       "</div>"
      ],
      "text/plain": [
       "                                       ID         Dt     Use       DACCOUNTID  \\\n",
       "1595537  (152969759120072, 5472501198444) 2016-10-01  243.39  152969759120072   \n",
       "1595538  (152969759120072, 5472501198444) 2016-10-02  223.09  152969759120072   \n",
       "1595539  (152969759120072, 5472501198444) 2016-10-03  174.88  152969759120072   \n",
       "1595540  (152969759120072, 5472501198444) 2016-10-04  214.29  152969759120072   \n",
       "1595541  (152969759120072, 5472501198444) 2016-10-05  223.77  152969759120072   \n",
       "\n",
       "           DCUSTOMERID       DMETERNO TARIFF FUELTYPE  REVENUCODE  Weekday  \\\n",
       "1595537  1599795980884  5472501198444    TFG      GAS         5.0        0   \n",
       "1595538  1599795980884  5472501198444    TFG      GAS         5.0        0   \n",
       "1595539  1599795980884  5472501198444    TFG      GAS         5.0        1   \n",
       "1595540  1599795980884  5472501198444    TFG      GAS         5.0        1   \n",
       "1595541  1599795980884  5472501198444    TFG      GAS         5.0        1   \n",
       "\n",
       "         Holiday  \n",
       "1595537        0  \n",
       "1595538        0  \n",
       "1595539        0  \n",
       "1595540        0  \n",
       "1595541        0  "
      ]
     },
     "execution_count": 89,
     "metadata": {},
     "output_type": "execute_result"
    }
   ],
   "source": [
    "# sort by date & time\n",
    "daily_use = daily_use.sort_values(by=['Dt'])\n",
    "print(daily_use.shape)\n",
    "daily_use.head()"
   ]
  },
  {
   "cell_type": "code",
   "execution_count": 90,
   "metadata": {},
   "outputs": [],
   "source": [
    "# save file(s) as pickles\n",
    "# using save location to save with other data files outside of git repo\n",
    "# data.to_csv(location+'peco.csv', sep='\\t')\n",
    "daily_use.to_pickle(location+'fcast_daily.pkl.zip')\n",
    "ids.to_pickle(location+'fcast_daily_ids.pkl.zip')\n",
    "del (daily_use)"
   ]
  },
  {
   "cell_type": "markdown",
   "metadata": {},
   "source": [
    "### Make hourly data###"
   ]
  },
  {
   "cell_type": "code",
   "execution_count": 91,
   "metadata": {},
   "outputs": [],
   "source": [
    "# append rate code data\n",
    "tidy_use = tidy_use.merge(customer, how='inner', on=['ID','DACCOUNTID','DMETERNO'])\n",
    "#tidy_use.head()"
   ]
  },
  {
   "cell_type": "code",
   "execution_count": 92,
   "metadata": {},
   "outputs": [],
   "source": [
    "# create single column for date and time\n",
    "tidy_use['year'] = pd.to_datetime(tidy_use['Dt'].values).year\n",
    "tidy_use['month'] = pd.to_datetime(tidy_use['Dt'].values).month\n",
    "tidy_use['day'] = pd.to_datetime(tidy_use['Dt'].values).day\n",
    "tidy_use['datetime'] = pd.to_datetime(tidy_use[['year','month','day','Hour']])"
   ]
  },
  {
   "cell_type": "code",
   "execution_count": 93,
   "metadata": {},
   "outputs": [],
   "source": [
    "# Add dummy variables for day-of-week\n",
    "#use = use.join(pd.get_dummies(use['Dt'].dt.weekday_name))\n",
    "tidy_use['Weekday'] = pd.get_dummies(tidy_use['Dt'].dt.weekday < 5)[True]"
   ]
  },
  {
   "cell_type": "code",
   "execution_count": 94,
   "metadata": {},
   "outputs": [],
   "source": [
    "# Add dummy variables for hour-of-day\n",
    "tidy_use = tidy_use.join(pd.get_dummies(tidy_use['Hour'],prefix='HR'))\n",
    "\n",
    "# Add dummy variables for part-of-day\n",
    "tidy_use['MORN'] = pd.get_dummies((tidy_use['Hour'] >= 5) & (tidy_use['Hour'] < 9))[True] # 5-9 am\n",
    "tidy_use['DAY'] = pd.get_dummies((tidy_use['Hour'] >= 9) & (tidy_use['Hour'] < 17))[True] # 9 am-5 pm\n",
    "tidy_use['EVE'] = pd.get_dummies((tidy_use['Hour'] >= 17) & (tidy_use['Hour'] < 21))[True] # 5-10 pm\n",
    "tidy_use['NIGHT'] = pd.get_dummies((tidy_use['Hour'] < 5) | (tidy_use['Hour'] >= 21) )[True] # 10 pm-6 am\n",
    "# tidy_use.head()"
   ]
  },
  {
   "cell_type": "code",
   "execution_count": 95,
   "metadata": {},
   "outputs": [],
   "source": [
    "# Add dummy variables for holidays\n",
    "from pandas.tseries.holiday import USFederalHolidayCalendar\n",
    "cal = USFederalHolidayCalendar()\n",
    "#dr = pd.date_range(start=min(tidy_use['Dt']), end=max(tidy_use['Dt']))\n",
    "dr = pd.date_range(start=\"1-1-2010\", end=\"12-31-2020\")\n",
    "holidays = cal.holidays(start=dr.min(), end=dr.max())\n",
    "\n",
    "tidy_use['Holiday'] = pd.get_dummies(tidy_use['Dt'].isin(holidays))[True]\n",
    "del (USFederalHolidayCalendar, cal, dr, holidays)\n",
    "#tidy_use.head()"
   ]
  },
  {
   "cell_type": "code",
   "execution_count": 96,
   "metadata": {},
   "outputs": [
    {
     "name": "stdout",
     "output_type": "stream",
     "text": [
      "(89804880, 39)\n"
     ]
    },
    {
     "data": {
      "text/html": [
       "<div>\n",
       "<style scoped>\n",
       "    .dataframe tbody tr th:only-of-type {\n",
       "        vertical-align: middle;\n",
       "    }\n",
       "\n",
       "    .dataframe tbody tr th {\n",
       "        vertical-align: top;\n",
       "    }\n",
       "\n",
       "    .dataframe thead th {\n",
       "        text-align: right;\n",
       "    }\n",
       "</style>\n",
       "<table border=\"1\" class=\"dataframe\">\n",
       "  <thead>\n",
       "    <tr style=\"text-align: right;\">\n",
       "      <th></th>\n",
       "      <th>ID</th>\n",
       "      <th>DACCOUNTID</th>\n",
       "      <th>DMETERNO</th>\n",
       "      <th>Use</th>\n",
       "      <th>DCUSTOMERID</th>\n",
       "      <th>TARIFF</th>\n",
       "      <th>FUELTYPE</th>\n",
       "      <th>REVENUCODE</th>\n",
       "      <th>Dt</th>\n",
       "      <th>Weekday</th>\n",
       "      <th>...</th>\n",
       "      <th>HR_19</th>\n",
       "      <th>HR_20</th>\n",
       "      <th>HR_21</th>\n",
       "      <th>HR_22</th>\n",
       "      <th>HR_23</th>\n",
       "      <th>MORN</th>\n",
       "      <th>DAY</th>\n",
       "      <th>EVE</th>\n",
       "      <th>NIGHT</th>\n",
       "      <th>Holiday</th>\n",
       "    </tr>\n",
       "  </thead>\n",
       "  <tbody>\n",
       "    <tr>\n",
       "      <th>10</th>\n",
       "      <td>(152969759120072, 5472501198444)</td>\n",
       "      <td>152969759120072</td>\n",
       "      <td>5472501198444</td>\n",
       "      <td>10.60</td>\n",
       "      <td>1599795980884</td>\n",
       "      <td>TFG</td>\n",
       "      <td>GAS</td>\n",
       "      <td>5.0</td>\n",
       "      <td>2016-10-01 00:00:00</td>\n",
       "      <td>0</td>\n",
       "      <td>...</td>\n",
       "      <td>0</td>\n",
       "      <td>0</td>\n",
       "      <td>0</td>\n",
       "      <td>0</td>\n",
       "      <td>0</td>\n",
       "      <td>0</td>\n",
       "      <td>0</td>\n",
       "      <td>0</td>\n",
       "      <td>1</td>\n",
       "      <td>0</td>\n",
       "    </tr>\n",
       "    <tr>\n",
       "      <th>15</th>\n",
       "      <td>(152969759120072, 5472501198444)</td>\n",
       "      <td>152969759120072</td>\n",
       "      <td>5472501198444</td>\n",
       "      <td>9.69</td>\n",
       "      <td>1599795980884</td>\n",
       "      <td>TFG</td>\n",
       "      <td>GAS</td>\n",
       "      <td>5.0</td>\n",
       "      <td>2016-10-01 01:00:00</td>\n",
       "      <td>0</td>\n",
       "      <td>...</td>\n",
       "      <td>0</td>\n",
       "      <td>0</td>\n",
       "      <td>0</td>\n",
       "      <td>0</td>\n",
       "      <td>0</td>\n",
       "      <td>0</td>\n",
       "      <td>0</td>\n",
       "      <td>0</td>\n",
       "      <td>1</td>\n",
       "      <td>0</td>\n",
       "    </tr>\n",
       "    <tr>\n",
       "      <th>19</th>\n",
       "      <td>(152969759120072, 5472501198444)</td>\n",
       "      <td>152969759120072</td>\n",
       "      <td>5472501198444</td>\n",
       "      <td>8.44</td>\n",
       "      <td>1599795980884</td>\n",
       "      <td>TFG</td>\n",
       "      <td>GAS</td>\n",
       "      <td>5.0</td>\n",
       "      <td>2016-10-01 02:00:00</td>\n",
       "      <td>0</td>\n",
       "      <td>...</td>\n",
       "      <td>0</td>\n",
       "      <td>0</td>\n",
       "      <td>0</td>\n",
       "      <td>0</td>\n",
       "      <td>0</td>\n",
       "      <td>0</td>\n",
       "      <td>0</td>\n",
       "      <td>0</td>\n",
       "      <td>1</td>\n",
       "      <td>0</td>\n",
       "    </tr>\n",
       "    <tr>\n",
       "      <th>8</th>\n",
       "      <td>(152969759120072, 5472501198444)</td>\n",
       "      <td>152969759120072</td>\n",
       "      <td>5472501198444</td>\n",
       "      <td>5.81</td>\n",
       "      <td>1599795980884</td>\n",
       "      <td>TFG</td>\n",
       "      <td>GAS</td>\n",
       "      <td>5.0</td>\n",
       "      <td>2016-10-01 03:00:00</td>\n",
       "      <td>0</td>\n",
       "      <td>...</td>\n",
       "      <td>0</td>\n",
       "      <td>0</td>\n",
       "      <td>0</td>\n",
       "      <td>0</td>\n",
       "      <td>0</td>\n",
       "      <td>0</td>\n",
       "      <td>0</td>\n",
       "      <td>0</td>\n",
       "      <td>1</td>\n",
       "      <td>0</td>\n",
       "    </tr>\n",
       "    <tr>\n",
       "      <th>17</th>\n",
       "      <td>(152969759120072, 5472501198444)</td>\n",
       "      <td>152969759120072</td>\n",
       "      <td>5472501198444</td>\n",
       "      <td>4.22</td>\n",
       "      <td>1599795980884</td>\n",
       "      <td>TFG</td>\n",
       "      <td>GAS</td>\n",
       "      <td>5.0</td>\n",
       "      <td>2016-10-01 04:00:00</td>\n",
       "      <td>0</td>\n",
       "      <td>...</td>\n",
       "      <td>0</td>\n",
       "      <td>0</td>\n",
       "      <td>0</td>\n",
       "      <td>0</td>\n",
       "      <td>0</td>\n",
       "      <td>0</td>\n",
       "      <td>0</td>\n",
       "      <td>0</td>\n",
       "      <td>1</td>\n",
       "      <td>0</td>\n",
       "    </tr>\n",
       "  </tbody>\n",
       "</table>\n",
       "<p>5 rows × 39 columns</p>\n",
       "</div>"
      ],
      "text/plain": [
       "                                  ID       DACCOUNTID       DMETERNO    Use  \\\n",
       "10  (152969759120072, 5472501198444)  152969759120072  5472501198444  10.60   \n",
       "15  (152969759120072, 5472501198444)  152969759120072  5472501198444   9.69   \n",
       "19  (152969759120072, 5472501198444)  152969759120072  5472501198444   8.44   \n",
       "8   (152969759120072, 5472501198444)  152969759120072  5472501198444   5.81   \n",
       "17  (152969759120072, 5472501198444)  152969759120072  5472501198444   4.22   \n",
       "\n",
       "      DCUSTOMERID TARIFF FUELTYPE  REVENUCODE                  Dt  Weekday  \\\n",
       "10  1599795980884    TFG      GAS         5.0 2016-10-01 00:00:00        0   \n",
       "15  1599795980884    TFG      GAS         5.0 2016-10-01 01:00:00        0   \n",
       "19  1599795980884    TFG      GAS         5.0 2016-10-01 02:00:00        0   \n",
       "8   1599795980884    TFG      GAS         5.0 2016-10-01 03:00:00        0   \n",
       "17  1599795980884    TFG      GAS         5.0 2016-10-01 04:00:00        0   \n",
       "\n",
       "     ...     HR_19  HR_20  HR_21  HR_22  HR_23  MORN  DAY  EVE  NIGHT  Holiday  \n",
       "10   ...         0      0      0      0      0     0    0    0      1        0  \n",
       "15   ...         0      0      0      0      0     0    0    0      1        0  \n",
       "19   ...         0      0      0      0      0     0    0    0      1        0  \n",
       "8    ...         0      0      0      0      0     0    0    0      1        0  \n",
       "17   ...         0      0      0      0      0     0    0    0      1        0  \n",
       "\n",
       "[5 rows x 39 columns]"
      ]
     },
     "execution_count": 96,
     "metadata": {},
     "output_type": "execute_result"
    }
   ],
   "source": [
    "# sort by date & time\n",
    "tidy_use = tidy_use.drop(columns=['Dt','year','month','day','Hour'])\n",
    "tidy_use = tidy_use.sort_values(by=['datetime'])\n",
    "tidy_use = tidy_use.rename(columns={'datetime':'Dt'}) # for consistency\n",
    "print(tidy_use.shape)\n",
    "tidy_use.head()"
   ]
  },
  {
   "cell_type": "code",
   "execution_count": 97,
   "metadata": {},
   "outputs": [],
   "source": [
    "# save file(s) as pickles\n",
    "# using save location to save with other data files outside of git repo\n",
    "# data.to_csv(location+'peco.csv', sep='\\t')\n",
    "tidy_use.to_pickle(location+'fcast_hourly.pkl.zip')\n",
    "ids.to_pickle(location+'fcast_hourly_ids.pkl.zip')\n",
    "del (tidy_use,ids)"
   ]
  },
  {
   "cell_type": "markdown",
   "metadata": {},
   "source": [
    " ### Merge use & weather? ###"
   ]
  },
  {
   "cell_type": "code",
   "execution_count": 98,
   "metadata": {},
   "outputs": [],
   "source": [
    "# # load data\n",
    "# hourly = pd.read_pickle(location+'peco_hourly.pkl.zip')\n",
    "# sufficient_hourly = pd.read_pickle(location+'peco_sufficient_hourly.pkl.zip')\n",
    "# weather = pd.read_pickle(location+'hourly_weather.pkl.zip')"
   ]
  },
  {
   "cell_type": "code",
   "execution_count": 99,
   "metadata": {},
   "outputs": [],
   "source": [
    "# # merge\n",
    "# hourly = pd.merge(hourly, weather, how='inner', on=['Dt'])\n",
    "# sufficient_hourly = pd.merge(sufficient_hourly, weather, how='inner', on=['Dt'])\n",
    "# # CustIDs || Date | Consumption |||| Weather_variables "
   ]
  }
 ],
 "metadata": {
  "kernelspec": {
   "display_name": "Python 3",
   "language": "python",
   "name": "python3"
  },
  "language_info": {
   "codemirror_mode": {
    "name": "ipython",
    "version": 3
   },
   "file_extension": ".py",
   "mimetype": "text/x-python",
   "name": "python",
   "nbconvert_exporter": "python",
   "pygments_lexer": "ipython3",
   "version": "3.7.0"
  }
 },
 "nbformat": 4,
 "nbformat_minor": 2
}
