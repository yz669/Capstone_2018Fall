{
 "cells": [
  {
   "cell_type": "markdown",
   "metadata": {},
   "source": [
    "# Daily Data #"
   ]
  },
  {
   "cell_type": "code",
   "execution_count": 5,
   "metadata": {},
   "outputs": [],
   "source": [
    "# imports\n",
    "import pandas as pd\n",
    "import numpy as np\n",
    "import time\n",
    "from timeit import default_timer as timer"
   ]
  },
  {
   "cell_type": "code",
   "execution_count": 6,
   "metadata": {},
   "outputs": [],
   "source": [
    "# define data location\n",
    "# location = '/Users/mithras/Documents/_SCHOOL/_Drexel/BUSN 710 - Capstone/Data/Forecasting Project/'\n",
    "location = '/Users/loki/Documents/_SCHOOL/_Drexel/BUSN 710 - Capstone/Data/Forecasting Project/'"
   ]
  },
  {
   "cell_type": "markdown",
   "metadata": {},
   "source": [
    "## Data Cleaning & Checking "
   ]
  },
  {
   "cell_type": "code",
   "execution_count": 7,
   "metadata": {},
   "outputs": [],
   "source": [
    "# # hourly data\n",
    "\n",
    "# use_oct_in = pd.read_excel(location+'PECO Zip HourlyUsage_2017.10.xlsx')\n",
    "# use_nov_in = pd.read_excel(location+'PECO Zip HourlyUsage_2017.11.xlsx') \n",
    "# use_dec_in = pd.read_excel(location+'PECO Zip HourlyUsage_2017.12.xlsx') \n",
    "# use_jan_in = pd.read_excel(location+'Zip_HourlylUsage_2018.01.xlsx')\n",
    "# use_feb_in = pd.read_excel(location+'PECO Zip HourlyUsage_2018.02.xlsx')\n",
    "# use_mar_in = pd.read_excel(location+'PECO Zip HourlyUsage_2018.03.xlsx')\n",
    "# use_apr_in = pd.read_excel(location+'PECO Zip HourlyUsage_2018.04.xlsx')\n",
    "# use_may_in = pd.read_excel(location+'PECO Zip HourlyUsage_2018.05.xlsx')\n",
    "# use_jun_in = pd.read_excel(location+'PECO Zip HourlyUsage_2018.06.xlsx')\n",
    "# use_jul_in = pd.read_excel(location+'Zip_HourlylUsage_2018.07.xlsx')\n",
    "# use_aug_in = pd.read_excel(location+'PECO Zip HourlyUsage_2018.08.xlsx')\n",
    "# use_sep_in = pd.read_excel(location+'PECO Zip HourlyUsage_2018.09.xlsx')\n",
    "\n",
    "# end = timer()\n",
    "# print((end - start)/60) # Time in minutes (~15 min)"
   ]
  },
  {
   "cell_type": "code",
   "execution_count": 8,
   "metadata": {},
   "outputs": [],
   "source": [
    "# # merge use data\n",
    "# hourly_in = [use_oct_in, use_nov_in, use_dec_in, use_jan_in, use_feb_in, use_mar_in, \n",
    "#              use_apr_in, use_may_in, use_jun_in, use_jul_in, use_aug_in, use_sep_in]\n",
    "             \n",
    "# use = pd.concat(hourly_in)"
   ]
  },
  {
   "cell_type": "code",
   "execution_count": 9,
   "metadata": {},
   "outputs": [],
   "source": [
    "# del (use_oct_in, use_nov_in, use_dec_in, use_jan_in, use_feb_in, use_mar_in, \n",
    "#      use_apr_in, use_may_in, use_jun_in, use_jul_in, use_aug_in, use_sep_in)\n",
    "# del hourly_in"
   ]
  },
  {
   "cell_type": "code",
   "execution_count": 10,
   "metadata": {},
   "outputs": [],
   "source": [
    "# # save as pickle so we don't have to do this again\n",
    "# use.to_pickle(location+'fcast_use_raw.pkl.zip')\n",
    "# del use"
   ]
  },
  {
   "cell_type": "code",
   "execution_count": 11,
   "metadata": {},
   "outputs": [
    {
     "name": "stdout",
     "output_type": "stream",
     "text": [
      "0.30873919785\n"
     ]
    }
   ],
   "source": [
    "# load pickle\n",
    "start = timer()\n",
    "\n",
    "use = pd.read_pickle(location+'hourly_use_raw.pkl.zip')\n",
    "\n",
    "end = timer()\n",
    "print((end - start)/60) # Time in minutes (~.2 min - MUCH FASTER!!)"
   ]
  },
  {
   "cell_type": "code",
   "execution_count": 13,
   "metadata": {},
   "outputs": [],
   "source": [
    "# create ID tuple\n",
    "ids = pd.Series(list(map(tuple, use[['DACCOUNTID', 'DMETERNO']].values)))\n",
    "use['ID'] = ids.values\n",
    "\n",
    "# find gas records\n",
    "use = use.loc[use['UOM'] == 'CCF']\n",
    "use = use.drop(columns=['UOM'])\n",
    "\n",
    "# convert to datetime\n",
    "use['Dt'] =  pd.to_datetime(use['METERREADDATE'])"
   ]
  },
  {
   "cell_type": "code",
   "execution_count": 14,
   "metadata": {},
   "outputs": [],
   "source": [
    "# load customer data\n",
    "customer_in = pd.read_excel(location+'PECO Zip Customer 2018.10.01 v2.xlsx', sheet_name=\"Account\")\n",
    "ids = pd.Series(list(map(tuple, customer_in[['DACCOUNTID', 'DMETERNO']].values)))\n",
    "customer_in['ID'] = ids.values\n",
    "customer = customer_in.drop(columns=['CITY', 'STATE', 'ZIPCODE', 'COUNTYCODE'])\n",
    "del customer_in"
   ]
  },
  {
   "cell_type": "code",
   "execution_count": 15,
   "metadata": {},
   "outputs": [
    {
     "data": {
      "text/html": [
       "<div>\n",
       "<style scoped>\n",
       "    .dataframe tbody tr th:only-of-type {\n",
       "        vertical-align: middle;\n",
       "    }\n",
       "\n",
       "    .dataframe tbody tr th {\n",
       "        vertical-align: top;\n",
       "    }\n",
       "\n",
       "    .dataframe thead th {\n",
       "        text-align: right;\n",
       "    }\n",
       "</style>\n",
       "<table border=\"1\" class=\"dataframe\">\n",
       "  <thead>\n",
       "    <tr style=\"text-align: right;\">\n",
       "      <th></th>\n",
       "      <th>DACCOUNTID</th>\n",
       "      <th>DCUSTOMERID</th>\n",
       "      <th>DMETERNO</th>\n",
       "      <th>TARIFF</th>\n",
       "      <th>FUELTYPE</th>\n",
       "      <th>REVENUCODE</th>\n",
       "      <th>ID</th>\n",
       "    </tr>\n",
       "  </thead>\n",
       "  <tbody>\n",
       "    <tr>\n",
       "      <th>0</th>\n",
       "      <td>156414999216</td>\n",
       "      <td>20325174427256</td>\n",
       "      <td>5472978430796</td>\n",
       "      <td>ER0</td>\n",
       "      <td>ELECTRIC</td>\n",
       "      <td>12.0</td>\n",
       "      <td>(156414999216, 5472978430796)</td>\n",
       "    </tr>\n",
       "    <tr>\n",
       "      <th>1</th>\n",
       "      <td>156414999216</td>\n",
       "      <td>20325174427256</td>\n",
       "      <td>4464803701784</td>\n",
       "      <td>GH0</td>\n",
       "      <td>GAS</td>\n",
       "      <td>12.0</td>\n",
       "      <td>(156414999216, 4464803701784)</td>\n",
       "    </tr>\n",
       "    <tr>\n",
       "      <th>2</th>\n",
       "      <td>432330788012</td>\n",
       "      <td>20325174427256</td>\n",
       "      <td>4464883887376</td>\n",
       "      <td>GH0</td>\n",
       "      <td>GAS</td>\n",
       "      <td>12.0</td>\n",
       "      <td>(432330788012, 4464883887376)</td>\n",
       "    </tr>\n",
       "    <tr>\n",
       "      <th>3</th>\n",
       "      <td>432330788012</td>\n",
       "      <td>20325174427256</td>\n",
       "      <td>5472996672436</td>\n",
       "      <td>ER0</td>\n",
       "      <td>ELECTRIC</td>\n",
       "      <td>12.0</td>\n",
       "      <td>(432330788012, 5472996672436)</td>\n",
       "    </tr>\n",
       "    <tr>\n",
       "      <th>4</th>\n",
       "      <td>469011116536</td>\n",
       "      <td>21879168677436</td>\n",
       "      <td>604933845496</td>\n",
       "      <td>GH0</td>\n",
       "      <td>GAS</td>\n",
       "      <td>1.0</td>\n",
       "      <td>(469011116536, 604933845496)</td>\n",
       "    </tr>\n",
       "  </tbody>\n",
       "</table>\n",
       "</div>"
      ],
      "text/plain": [
       "     DACCOUNTID     DCUSTOMERID       DMETERNO TARIFF  FUELTYPE  REVENUCODE  \\\n",
       "0  156414999216  20325174427256  5472978430796    ER0  ELECTRIC        12.0   \n",
       "1  156414999216  20325174427256  4464803701784    GH0       GAS        12.0   \n",
       "2  432330788012  20325174427256  4464883887376    GH0       GAS        12.0   \n",
       "3  432330788012  20325174427256  5472996672436    ER0  ELECTRIC        12.0   \n",
       "4  469011116536  21879168677436   604933845496    GH0       GAS         1.0   \n",
       "\n",
       "                              ID  \n",
       "0  (156414999216, 5472978430796)  \n",
       "1  (156414999216, 4464803701784)  \n",
       "2  (432330788012, 4464883887376)  \n",
       "3  (432330788012, 5472996672436)  \n",
       "4   (469011116536, 604933845496)  "
      ]
     },
     "execution_count": 15,
     "metadata": {},
     "output_type": "execute_result"
    }
   ],
   "source": [
    "customer.head()"
   ]
  },
  {
   "cell_type": "markdown",
   "metadata": {},
   "source": [
    "## Data Restructuring ##"
   ]
  },
  {
   "cell_type": "code",
   "execution_count": 24,
   "metadata": {},
   "outputs": [],
   "source": [
    "# functions for naming consistency\n",
    "def decrement(x, startswith, split):\n",
    "    \"\"\"\n",
    "    decrements a passed string of form \"demo#\" by 1\n",
    "    \n",
    "    Parameters\n",
    "    ----------\n",
    "    x : string to be decremented\n",
    "    split : string to split on\n",
    "\n",
    "    Returns\n",
    "    ----------\n",
    "    y : decremented string\n",
    "    \"\"\"\n",
    "    if x.startswith(startswith):\n",
    "        a,b = x.split(split)\n",
    "        b = int(b)-1\n",
    "        y = a + split + str(b)\n",
    "\n",
    "        return y\n",
    "\n",
    "    else:\n",
    "        return x\n",
    "\n",
    "    \n",
    "def interval_to_hour(df):\n",
    "    \"\"\"\n",
    "    function for fast rename/relabel during tidying process\n",
    "    \n",
    "    Parameters\n",
    "    ----------\n",
    "    df : pandas data frame\n",
    "\n",
    "    Returns\n",
    "    ----------\n",
    "    df : data frame with updated column names\n",
    "    \"\"\"\n",
    "    \n",
    "    df = df.rename(columns=lambda x: decrement(x, \"INTERVAL_\", \"_\"))\n",
    "    df = df.rename(columns=lambda x: x.replace(\"INTERVAL_\", \"HR\"))\n",
    "    return df"
   ]
  },
  {
   "cell_type": "code",
   "execution_count": 25,
   "metadata": {},
   "outputs": [],
   "source": [
    "# rename for consistency\n",
    "use = interval_to_hour(use)\n",
    "use = use.drop(columns=['METERREADDATE','HR24'])"
   ]
  },
  {
   "cell_type": "code",
   "execution_count": 26,
   "metadata": {},
   "outputs": [],
   "source": [
    "# Tidy / Stack data (transform into tall data - one row per customer per hour):\n",
    "# ref: http://www.jeannicholashould.com/tidy-data-in-python.html\n",
    "tidy_use = pd.melt(use, \n",
    "                   id_vars=['ID','DACCOUNTID','DMETERNO','Dt'],\n",
    "                   var_name='Hour', value_name='Use')\n"
   ]
  },
  {
   "cell_type": "code",
   "execution_count": 27,
   "metadata": {},
   "outputs": [],
   "source": [
    "# drop use from memory\n",
    "del use"
   ]
  },
  {
   "cell_type": "code",
   "execution_count": 28,
   "metadata": {},
   "outputs": [],
   "source": [
    "# relabel/retype\n",
    "tidy_use['Hour'] = tidy_use['Hour'].str.extract('(\\d+)').astype(int)\n",
    "tidy_use = tidy_use.sort_values(by=[\"Dt\"])"
   ]
  },
  {
   "cell_type": "markdown",
   "metadata": {},
   "source": [
    "### Make daily data ###"
   ]
  },
  {
   "cell_type": "code",
   "execution_count": 29,
   "metadata": {},
   "outputs": [
    {
     "name": "stderr",
     "output_type": "stream",
     "text": [
      "/Library/Frameworks/Python.framework/Versions/3.7/lib/python3.7/site-packages/ipykernel_launcher.py:3: SettingWithCopyWarning: \n",
      "A value is trying to be set on a copy of a slice from a DataFrame.\n",
      "Try using .loc[row_indexer,col_indexer] = value instead\n",
      "\n",
      "See the caveats in the documentation: http://pandas.pydata.org/pandas-docs/stable/indexing.html#indexing-view-versus-copy\n",
      "  This is separate from the ipykernel package so we can avoid doing imports until\n",
      "/Library/Frameworks/Python.framework/Versions/3.7/lib/python3.7/site-packages/ipykernel_launcher.py:4: SettingWithCopyWarning: \n",
      "A value is trying to be set on a copy of a slice from a DataFrame.\n",
      "Try using .loc[row_indexer,col_indexer] = value instead\n",
      "\n",
      "See the caveats in the documentation: http://pandas.pydata.org/pandas-docs/stable/indexing.html#indexing-view-versus-copy\n",
      "  after removing the cwd from sys.path.\n"
     ]
    }
   ],
   "source": [
    "# for daily aggregation\n",
    "daily_use = tidy_use[['ID','Use','Dt']]\n",
    "daily_use['Dt'] = daily_use['Dt'].dt.date\n",
    "daily_use['Dt'] =  pd.to_datetime(daily_use['Dt'])\n",
    "daily_use = daily_use.groupby(['ID','Dt']).sum().reset_index()"
   ]
  },
  {
   "cell_type": "code",
   "execution_count": 30,
   "metadata": {},
   "outputs": [],
   "source": [
    "# append rate code data\n",
    "daily_use = daily_use.merge(customer, how='inner', on=['ID'])\n",
    "#daily_use.head()"
   ]
  },
  {
   "cell_type": "code",
   "execution_count": 31,
   "metadata": {},
   "outputs": [],
   "source": [
    "# Add dummy variables for day-of-week\n",
    "daily_use['Weekday'] = pd.get_dummies(daily_use['Dt'].dt.weekday < 5)[True]\n",
    "\n",
    "# Add dummy variables for holidays\n",
    "from pandas.tseries.holiday import USFederalHolidayCalendar\n",
    "cal = USFederalHolidayCalendar()\n",
    "#dr = pd.date_range(start=min(tidy_use['Dt']), end=max(tidy_use['Dt']))\n",
    "dr = pd.date_range(start=\"1-1-2010\", end=\"12-31-2020\")\n",
    "holidays = cal.holidays(start=dr.min(), end=dr.max())\n",
    "\n",
    "daily_use['Holiday'] = pd.get_dummies(daily_use['Dt'].isin(holidays))[True]\n",
    "del (USFederalHolidayCalendar, cal, dr, holidays)\n",
    "#daily_use.head()"
   ]
  },
  {
   "cell_type": "code",
   "execution_count": 32,
   "metadata": {},
   "outputs": [
    {
     "name": "stdout",
     "output_type": "stream",
     "text": [
      "(2279446, 11)\n"
     ]
    },
    {
     "data": {
      "text/html": [
       "<div>\n",
       "<style scoped>\n",
       "    .dataframe tbody tr th:only-of-type {\n",
       "        vertical-align: middle;\n",
       "    }\n",
       "\n",
       "    .dataframe tbody tr th {\n",
       "        vertical-align: top;\n",
       "    }\n",
       "\n",
       "    .dataframe thead th {\n",
       "        text-align: right;\n",
       "    }\n",
       "</style>\n",
       "<table border=\"1\" class=\"dataframe\">\n",
       "  <thead>\n",
       "    <tr style=\"text-align: right;\">\n",
       "      <th></th>\n",
       "      <th>ID</th>\n",
       "      <th>Dt</th>\n",
       "      <th>Use</th>\n",
       "      <th>DACCOUNTID</th>\n",
       "      <th>DCUSTOMERID</th>\n",
       "      <th>DMETERNO</th>\n",
       "      <th>TARIFF</th>\n",
       "      <th>FUELTYPE</th>\n",
       "      <th>REVENUCODE</th>\n",
       "      <th>Weekday</th>\n",
       "      <th>Holiday</th>\n",
       "    </tr>\n",
       "  </thead>\n",
       "  <tbody>\n",
       "    <tr>\n",
       "      <th>495153</th>\n",
       "      <td>(68881639149832, 606395738288)</td>\n",
       "      <td>2017-10-01</td>\n",
       "      <td>1.00</td>\n",
       "      <td>68881639149832</td>\n",
       "      <td>3188526427696</td>\n",
       "      <td>606395738288</td>\n",
       "      <td>GH0</td>\n",
       "      <td>GAS</td>\n",
       "      <td>1.0</td>\n",
       "      <td>0</td>\n",
       "      <td>0</td>\n",
       "    </tr>\n",
       "    <tr>\n",
       "      <th>482563</th>\n",
       "      <td>(68690879683500, 608923719096)</td>\n",
       "      <td>2017-10-01</td>\n",
       "      <td>0.00</td>\n",
       "      <td>68690879683500</td>\n",
       "      <td>19731696176432</td>\n",
       "      <td>608923719096</td>\n",
       "      <td>GH0</td>\n",
       "      <td>GAS</td>\n",
       "      <td>1.0</td>\n",
       "      <td>0</td>\n",
       "      <td>0</td>\n",
       "    </tr>\n",
       "    <tr>\n",
       "      <th>1063222</th>\n",
       "      <td>(164788222898932, 640944705832)</td>\n",
       "      <td>2017-10-01</td>\n",
       "      <td>1.14</td>\n",
       "      <td>164788222898932</td>\n",
       "      <td>33149958808264</td>\n",
       "      <td>640944705832</td>\n",
       "      <td>GH0</td>\n",
       "      <td>GAS</td>\n",
       "      <td>1.0</td>\n",
       "      <td>0</td>\n",
       "      <td>0</td>\n",
       "    </tr>\n",
       "    <tr>\n",
       "      <th>482201</th>\n",
       "      <td>(68689501197696, 726789359116)</td>\n",
       "      <td>2017-10-01</td>\n",
       "      <td>2.00</td>\n",
       "      <td>68689501197696</td>\n",
       "      <td>756418245856</td>\n",
       "      <td>726789359116</td>\n",
       "      <td>GH0</td>\n",
       "      <td>GAS</td>\n",
       "      <td>1.0</td>\n",
       "      <td>0</td>\n",
       "      <td>0</td>\n",
       "    </tr>\n",
       "    <tr>\n",
       "      <th>160918</th>\n",
       "      <td>(20628346369984, 640143121596)</td>\n",
       "      <td>2017-10-01</td>\n",
       "      <td>4.12</td>\n",
       "      <td>20628346369984</td>\n",
       "      <td>24713480259220</td>\n",
       "      <td>640143121596</td>\n",
       "      <td>UHC</td>\n",
       "      <td>GAS</td>\n",
       "      <td>3.0</td>\n",
       "      <td>0</td>\n",
       "      <td>0</td>\n",
       "    </tr>\n",
       "  </tbody>\n",
       "</table>\n",
       "</div>"
      ],
      "text/plain": [
       "                                      ID         Dt   Use       DACCOUNTID  \\\n",
       "495153    (68881639149832, 606395738288) 2017-10-01  1.00   68881639149832   \n",
       "482563    (68690879683500, 608923719096) 2017-10-01  0.00   68690879683500   \n",
       "1063222  (164788222898932, 640944705832) 2017-10-01  1.14  164788222898932   \n",
       "482201    (68689501197696, 726789359116) 2017-10-01  2.00   68689501197696   \n",
       "160918    (20628346369984, 640143121596) 2017-10-01  4.12   20628346369984   \n",
       "\n",
       "            DCUSTOMERID      DMETERNO TARIFF FUELTYPE  REVENUCODE  Weekday  \\\n",
       "495153    3188526427696  606395738288    GH0      GAS         1.0        0   \n",
       "482563   19731696176432  608923719096    GH0      GAS         1.0        0   \n",
       "1063222  33149958808264  640944705832    GH0      GAS         1.0        0   \n",
       "482201     756418245856  726789359116    GH0      GAS         1.0        0   \n",
       "160918   24713480259220  640143121596    UHC      GAS         3.0        0   \n",
       "\n",
       "         Holiday  \n",
       "495153         0  \n",
       "482563         0  \n",
       "1063222        0  \n",
       "482201         0  \n",
       "160918         0  "
      ]
     },
     "execution_count": 32,
     "metadata": {},
     "output_type": "execute_result"
    }
   ],
   "source": [
    "# sort by date & time\n",
    "daily_use = daily_use.sort_values(by=['Dt'])\n",
    "print(daily_use.shape)\n",
    "daily_use.head()"
   ]
  },
  {
   "cell_type": "markdown",
   "metadata": {},
   "source": [
    "#### Quick look at amount of data we have per ID ####"
   ]
  },
  {
   "cell_type": "code",
   "execution_count": 34,
   "metadata": {},
   "outputs": [
    {
     "name": "stdout",
     "output_type": "stream",
     "text": [
      "There is no missing data in the 2279446 rows of useage data\n"
     ]
    }
   ],
   "source": [
    "# drop records with missing data\n",
    "if len(daily_use) == len(daily_use.dropna(subset=['Use'])):\n",
    "    print(f'There is no missing data in the {len(daily_use)} rows of useage data')\n",
    "else:\n",
    "    daily_use = daily_use.dropna(subset=['Use'])"
   ]
  },
  {
   "cell_type": "code",
   "execution_count": 35,
   "metadata": {},
   "outputs": [
    {
     "name": "stdout",
     "output_type": "stream",
     "text": [
      "There are 6976 unique AccountIDs in the data\n",
      "There are 6953 unique MeterNos in the data\n",
      "There are 7097 unique AccountID / MeterNo pairs in the data\n"
     ]
    }
   ],
   "source": [
    "print(f\"There are {len(daily_use['DACCOUNTID'].drop_duplicates())} unique AccountIDs in the data\")\n",
    "print(f\"There are {len(daily_use['DMETERNO'].drop_duplicates())} unique MeterNos in the data\")\n",
    "ids = daily_use['ID'].drop_duplicates()\n",
    "print(f\"There are {len(ids)} unique AccountID / MeterNo pairs in the data\")"
   ]
  },
  {
   "cell_type": "code",
   "execution_count": 37,
   "metadata": {},
   "outputs": [
    {
     "data": {
      "text/plain": [
       "Text(0.5, 1.0, 'Frequency of IDs with X dates')"
      ]
     },
     "execution_count": 37,
     "metadata": {},
     "output_type": "execute_result"
    },
    {
     "data": {
      "image/png": "[encoded data removed]",
      "text/plain": [
       "<Figure size 432x288 with 1 Axes>"
      ]
     },
     "metadata": {
      "needs_background": "light"
     },
     "output_type": "display_data"
    }
   ],
   "source": [
    "import seaborn as sns\n",
    "import matplotlib.pyplot as plt\n",
    "ids_to_plot = daily_use.groupby('ID').count()\n",
    "sns.distplot(ids_to_plot['Use'], bins=20, kde=False, rug=False)\n",
    "plt.title('Frequency of IDs with X dates')"
   ]
  },
  {
   "cell_type": "code",
   "execution_count": 38,
   "metadata": {},
   "outputs": [
    {
     "data": {
      "text/plain": [
       "Text(0.5, 1.0, 'Frequency of IDs with at least 330 dates')"
      ]
     },
     "execution_count": 38,
     "metadata": {},
     "output_type": "execute_result"
    },
    {
     "data": {
      "image/png": "[encoded data removed]",
      "text/plain": [
       "<Figure size 432x288 with 1 Axes>"
      ]
     },
     "metadata": {
      "needs_background": "light"
     },
     "output_type": "display_data"
    }
   ],
   "source": [
    "sns.distplot(ids_to_plot[ids_to_plot['Use'] > 330]['Use'], bins=20, kde=False, rug=False)\n",
    "plt.title('Frequency of IDs with at least 330 dates')"
   ]
  },
  {
   "cell_type": "code",
   "execution_count": null,
   "metadata": {},
   "outputs": [],
   "source": [
    "#for i in range(1,365):\n",
    "#    print(f\"{ids_to_plot[ids_to_plot['Use'] >= i]['Use'].count()} records have >={i} dates\")"
   ]
  },
  {
   "cell_type": "markdown",
   "metadata": {},
   "source": [
    "#### Find IDs with sufficient data to build initial segments on --> reliable training set ####"
   ]
  },
  {
   "cell_type": "code",
   "execution_count": 39,
   "metadata": {},
   "outputs": [
    {
     "name": "stdout",
     "output_type": "stream",
     "text": [
      "76.90573481752854 percent of IDs have at least 360 days of data\n"
     ]
    }
   ],
   "source": [
    "# find IDs with at least 360 days of data\n",
    "sufficient_ids = ids_to_plot[ids_to_plot['Use'] >= 360].reset_index()['ID']\n",
    "print(f\"{100*len(sufficient_ids)/len(daily_use['ID'].unique())} percent of IDs have at least 360 days of data\")"
   ]
  },
  {
   "cell_type": "code",
   "execution_count": 40,
   "metadata": {},
   "outputs": [
    {
     "name": "stdout",
     "output_type": "stream",
     "text": [
      "The IDs with sufficient data overlap on 322 days of the most recent year of data\n"
     ]
    }
   ],
   "source": [
    "# find the dates for which sufficient_ids all have data\n",
    "pivoted = (daily_use[daily_use['ID'].isin(sufficient_ids)]\n",
    "           .pivot_table(index='Dt', columns=['ID'], values='Use', fill_value=None))\n",
    "sufficient_dates = pivoted.dropna().reset_index()['Dt']\n",
    "del pivoted\n",
    "print(f\"The IDs with sufficient data overlap on {len(sufficient_dates)} days of the most recent year of data\")"
   ]
  },
  {
   "cell_type": "code",
   "execution_count": 41,
   "metadata": {},
   "outputs": [],
   "source": [
    "# filter total use dataset to contain only IDs who have sufficient data and only dates where sufficient_ids have data\n",
    "sufficient_use = daily_use[(daily_use['ID'].isin(sufficient_ids)) & (daily_use['Dt'].isin(sufficient_dates))]\n",
    "#sufficient_use.head()"
   ]
  },
  {
   "cell_type": "code",
   "execution_count": 42,
   "metadata": {},
   "outputs": [
    {
     "name": "stdout",
     "output_type": "stream",
     "text": [
      "2279446\n",
      "1767458\n",
      "7097\n",
      "5458\n"
     ]
    }
   ],
   "source": [
    "#sanity check\n",
    "print(len(daily_use))\n",
    "print(len(sufficient_use))\n",
    "print(len(ids))\n",
    "print(len(sufficient_ids))"
   ]
  },
  {
   "cell_type": "markdown",
   "metadata": {},
   "source": [
    "#### Subgroup detection ####"
   ]
  },
  {
   "cell_type": "code",
   "execution_count": 43,
   "metadata": {},
   "outputs": [],
   "source": [
    "# print(daily_use[['ID','REVENUCODE']].drop_duplicates().groupby('REVENUCODE').count())\n",
    "# print(\"nan           \"+str(len(use[np.isnan(use['REVENUCODE'])][['ID']].drop_duplicates())))"
   ]
  },
  {
   "cell_type": "code",
   "execution_count": 44,
   "metadata": {},
   "outputs": [],
   "source": [
    "# print(daily_use[['ID','REVENUCODE']].drop_duplicates().groupby('REVENUCODE').count())\n",
    "# print(\"nan           \"+str(len(use[np.isnan(use['REVENUCODE'])][['ID']].drop_duplicates())))"
   ]
  },
  {
   "cell_type": "code",
   "execution_count": 45,
   "metadata": {},
   "outputs": [],
   "source": [
    "# # recode 'REVENUCODE' as 'TYPE'\n",
    "# def recode(df):\n",
    "#     \"\"\"combines REVENUCODE groups 1,12,nan to HOME and 3,5 to COMMERICAL\"\"\"\n",
    "#     df['TYPE'] = None\n",
    "#     df.loc[ df.REVENUCODE == 1, 'TYPE' ] = 'HOME'\n",
    "#     df.loc[ df.REVENUCODE == 12, 'TYPE' ] = 'HOME'\n",
    "#     df.loc[ np.isnan(df['REVENUCODE']), 'TYPE' ] = 'HOME'\n",
    "#     df.loc[ df.REVENUCODE == 3, 'TYPE' ] = 'COMM'\n",
    "#     df.loc[ df.REVENUCODE == 5, 'TYPE' ] = 'COMM'\n",
    "    \n",
    "#     #df['TYPE'][df['REVENUCODE']==1] = 'HOME'\n",
    "#     #df['TYPE'][df['REVENUCODE']==12] = 'HOME'\n",
    "#     #df['TYPE'][np.isnan(df['REVENUCODE'])] = 'HOME'\n",
    "#     #df['TYPE'][df['REVENUCODE']==3] = 'COMM'\n",
    "#     #df['TYPE'][df['REVENUCODE']==5] = 'COMM'\n",
    "    \n",
    "#     return df"
   ]
  },
  {
   "cell_type": "code",
   "execution_count": 46,
   "metadata": {},
   "outputs": [],
   "source": [
    "# # ignore errors\n",
    "# daily_use = recode(daily_use)\n",
    "# sufficient_use = recode(sufficient_use)"
   ]
  },
  {
   "cell_type": "markdown",
   "metadata": {},
   "source": [
    "### Save ###"
   ]
  },
  {
   "cell_type": "code",
   "execution_count": 47,
   "metadata": {},
   "outputs": [],
   "source": [
    "# save file(s) as pickles\n",
    "# using save location to save with other data files outside of git repo\n",
    "# data.to_csv(location+'peco.csv', sep='\\t')\n",
    "daily_use.to_pickle(location+'peco_daily.pkl.zip')\n",
    "sufficient_use.to_pickle(location+'peco_sufficient_daily.pkl.zip')\n",
    "ids.to_pickle(location+'peco_daily_ids.pkl.zip')\n",
    "sufficient_ids.to_pickle(location+'peco_sufficient_daily_ids.pkl.zip')"
   ]
  },
  {
   "cell_type": "markdown",
   "metadata": {},
   "source": [
    " ### Merge use & weather? ###"
   ]
  },
  {
   "cell_type": "code",
   "execution_count": null,
   "metadata": {},
   "outputs": [],
   "source": [
    "# # load data\n",
    "# daily = pd.read_pickle(location+'peco_daily.pkl.zip')\n",
    "# sufficient_daily = pd.read_pickle(location+'peco_sufficient_daily.pkl.zip')\n",
    "# weather = pd.read_pickle(location+'daily_weather.pkl.zip')"
   ]
  },
  {
   "cell_type": "code",
   "execution_count": null,
   "metadata": {},
   "outputs": [],
   "source": [
    "# # merge\n",
    "# daily = pd.merge(daily, weather, how='inner', on=['Dt'])\n",
    "# sufficient_daily = pd.merge(sufficient_daily, weather, how='inner', on=['Dt'])\n",
    "# # CustIDs || Date | Consumption |||| Weather_variables"
   ]
  }
 ],
 "metadata": {
  "kernelspec": {
   "display_name": "Python 3",
   "language": "python",
   "name": "python3"
  },
  "language_info": {
   "codemirror_mode": {
    "name": "ipython",
    "version": 3
   },
   "file_extension": ".py",
   "mimetype": "text/x-python",
   "name": "python",
   "nbconvert_exporter": "python",
   "pygments_lexer": "ipython3",
   "version": "3.7.0"
  }
 },
 "nbformat": 4,
 "nbformat_minor": 2
}
